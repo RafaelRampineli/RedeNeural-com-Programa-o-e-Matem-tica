{
 "cells": [
  {
   "cell_type": "markdown",
   "metadata": {},
   "source": [
    "# <font color='blue'>Machine Learning</font>"
   ]
  },
  {
   "cell_type": "code",
   "execution_count": 1,
   "metadata": {},
   "outputs": [
    {
     "name": "stdout",
     "output_type": "stream",
     "text": [
      "Versão da Linguagem Python Usada Neste Jupyter Notebook: 3.7.3\n"
     ]
    }
   ],
   "source": [
    "# Versão da Linguagem Python\n",
    "from platform import python_version\n",
    "print('Versão da Linguagem Python Usada Neste Jupyter Notebook:', python_version())"
   ]
  },
  {
   "cell_type": "markdown",
   "metadata": {},
   "source": [
    "## A Matemática das Redes Neurais Artificiais\n",
    "\n",
    "### Construindo a Rede Neural com Programação e Matemática"
   ]
  },
  {
   "cell_type": "markdown",
   "metadata": {},
   "source": [
    "Teremos 2 Partes:\n",
    "\n",
    "- Parte 1 - Construção de uma rede neural artificial somente com operações matemáticas \n",
    "- Parte 2 - Treinamento da rede para Prever a Ocorrência de Câncer"
   ]
  },
  {
   "cell_type": "markdown",
   "metadata": {},
   "source": [
    "## A Arquitetura de Redes Neurais Artificiais"
   ]
  },
  {
   "cell_type": "markdown",
   "metadata": {},
   "source": [
    "Uma rede neural típica é constituída por um conjunto de neurônios interligados, infuenciando uns aos outros formando um sistema maior, capaz de armazenar conhecimento adquirido por meio de exemplos apresentados e, assim, podendo realizar inferências sobre novos conjuntos de dados. Vejamos a arquitetura de redes neurais artificiais.\n",
    "\n",
    "As redes neurais são comumente apresentadas como um grafo orientado, onde os vértices são os neurônios e as arestas as sinapses. A direção das arestas informa o tipo de alimentação, ou seja, como os neurônios são alimentados (recebem sinais de entrada). As redes neurais derivam seu poder devido a sua estrutura massiva e paralela e a habilidade de aprender por experiência. Essa experiência é transmitida por meio de exemplos obtidos do mundo real, definidos como um conjunto de características formados por dados de entrada e de saída. Se apresentamos esses dados de entrada e saída à rede, estamos diante de aprendizagem supervsionada e caso apresentemos apenas os dados de entrada, estamos diante de aprendizagem não supervisionada!\n",
    "\n",
    "O conhecimento obtido pela rede através dos exemplos é armazenado na forma de pesos das conexões, os quais serão ajustados a fim de tomar decisões corretas a partir de novas entradas, ou seja, novas situações do mundo real não conhecidas pela rede. O processo de ajuste dos pesos sinapticos é realizado pelo algoritmo de aprendizagem, responsável em armazenar na rede o conhecimento do mundo real obtido atraves de exemplos. Existem vários algoritmos de aprendizagem, dentre eles o backpropagation que é o algoritmo mais utilizado.\n",
    "\n",
    "![title](imagens/nnet.png)"
   ]
  },
  {
   "cell_type": "markdown",
   "metadata": {},
   "source": [
    "### Importando os Pacotes"
   ]
  },
  {
   "cell_type": "code",
   "execution_count": null,
   "metadata": {},
   "outputs": [],
   "source": [
    "# Para atualizar um pacote, execute o comando abaixo no terminal ou prompt de comando:\n",
    "# pip install -U nome_pacote\n",
    "\n",
    "# Para instalar a versão exata de um pacote, execute o comando abaixo no terminal ou prompt de comando:\n",
    "# pip install nome_pacote==versão_desejada\n",
    "\n",
    "# Depois de instalar ou atualizar o pacote, reinicie o jupyter notebook."
   ]
  },
  {
   "cell_type": "code",
   "execution_count": null,
   "metadata": {},
   "outputs": [],
   "source": [
    "# Instala o pacote watermark. \n",
    "# Esse pacote é usado para gravar as versões de outros pacotes usados neste jupyter notebook.\n",
    "!pip install -q -U watermark"
   ]
  },
  {
   "cell_type": "code",
   "execution_count": 2,
   "metadata": {},
   "outputs": [],
   "source": [
    "# Por enquanto precisaremos somente do NumPy\n",
    "import numpy as np"
   ]
  },
  {
   "cell_type": "code",
   "execution_count": 3,
   "metadata": {},
   "outputs": [
    {
     "name": "stdout",
     "output_type": "stream",
     "text": [
      "numpy 1.18.4\n",
      "\n"
     ]
    }
   ],
   "source": [
    "# Versões dos pacotes usados neste jupyter notebook\n",
    "%reload_ext watermark\n",
    "%watermark --iversions"
   ]
  },
  {
   "cell_type": "markdown",
   "metadata": {},
   "source": [
    "### Parte 1 - Implementando Uma Rede Neural Artificial Somente com Fórmulas Matemáticas (Sem Frameworks)"
   ]
  },
  {
   "cell_type": "markdown",
   "metadata": {},
   "source": [
    "### Parte 1A - Forward Propagation"
   ]
  },
  {
   "cell_type": "markdown",
   "metadata": {},
   "source": [
    "![title](imagens/nn.png)"
   ]
  },
  {
   "cell_type": "markdown",
   "metadata": {},
   "source": [
    "### Desenvolvendo a Função Para Inicialização de Pesos"
   ]
  },
  {
   "cell_type": "code",
   "execution_count": 4,
   "metadata": {},
   "outputs": [],
   "source": [
    "# Função para inicialização randômica dos parâmetros do modelo\n",
    "def inicializa_parametros(dims_camada_entrada):\n",
    "    \n",
    "    # Dicionário para os parâmetros\n",
    "    parameters = {}\n",
    "    \n",
    "    # Comprimento das dimensões das camadas\n",
    "    comp = len(dims_camada_entrada)\n",
    "    \n",
    "    # Loop pelo comprimento\n",
    "    for i in range(1, comp):\n",
    "        \n",
    "        # Inicialização da matriz de pesos, considerando um limite inferior e superior para encontrar um valor randomico.\n",
    "        # Utilizando valores de uma distribuição normal (randn)\n",
    "        parameters[\"W\" + str(i)] = np.random.randn(dims_camada_entrada[i], dims_camada_entrada[i - 1]) * 0.01\n",
    "        \n",
    "        # Inicialização do bias\n",
    "        parameters[\"b\" + str(i)] = np.zeros((dims_camada_entrada[i], 1))\n",
    "    \n",
    "    return parameters"
   ]
  },
  {
   "cell_type": "markdown",
   "metadata": {},
   "source": [
    "### Desenvolvendo a Função Sigmóide\n",
    "\n",
    "A principal razão pela qual usamos a função sigmóide é porque ela permite converter números para valores entre 0 e 1. \n",
    "\n",
    "Portanto, é especialmente usada para modelos em que temos que prever a probabilidade como uma saída. Como a probabilidade de qualquer coisa existir apenas entre o intervalo de 0 e 1, sigmoide é a escolha certa. Algumas caracterísiticas da função sigmóide:\n",
    "\n",
    "- A função é diferenciável. Isso significa que podemos encontrar a inclinação da curva sigmóide em dois pontos.\n",
    "- A função sigmóide logística pode fazer com que uma rede neural fique presa no momento do treinamento.\n",
    "- A função softmax é uma função de ativação logística mais generalizada, utilizada para a classificação em várias classes."
   ]
  },
  {
   "cell_type": "markdown",
   "metadata": {},
   "source": [
    "![title](imagens/sigmoid.png)"
   ]
  },
  {
   "cell_type": "markdown",
   "metadata": {},
   "source": [
    "Se a função parecer muito abstrata ou estranha para você, não se preocupe muito com detalhes como o número de Euler e ou como alguém criou essa função. Para aqueles que não são conhecedores de matemática, a única coisa importante sobre a função sigmóide é primeiro, sua curva e, segundo, sua derivada. Aqui estão mais alguns detalhes:\n",
    "\n",
    "- **A função sigmóide produz resultados semelhantes aos da função de passo (Step Function) em que a saída está entre 0 e 1. A curva cruza 0,5 a z = 0, e podemos definir regras para a função de ativação, como: Se a saída do neurônio sigmóide for maior que ou igual a 0,5, gera 1; se a saída for menor que 0,5, gera 0.**\n",
    "\n",
    "\n",
    "- A função sigmóide é suave e possui uma derivada simples de σ(z) * (1 - σ (z)), que é diferenciável em qualquer lugar da curva. \n",
    "\n",
    "\n",
    "- Se z for muito negativo, a saída será aproximadamente 0; se z for muito positivo, a saída é aproximadamente 1; mas em torno de z = 0, onde z não é muito grande nem muito pequeno, temos um desvio relativamente maior à medida que z muda."
   ]
  },
  {
   "cell_type": "markdown",
   "metadata": {},
   "source": [
    "**Afinal, O Que é Derivada?**\n",
    "\n",
    "![title](imagens/derivada.png)"
   ]
  },
  {
   "cell_type": "markdown",
   "metadata": {},
   "source": [
    "No Cálculo, a derivada em um ponto de uma função y = f(x) representa a taxa de variação instantânea de y em relação a x neste ponto. \n",
    "\n",
    "Um exemplo típico é a função velocidade que representa a taxa de variação (derivada) da função espaço. Do mesmo modo, a função aceleração é a derivada da função velocidade. Geometricamente, a derivada no ponto x = a de y = f(x) representa a inclinação da reta tangente ao gráfico desta função no ponto (a, f(a)).\n",
    "\n",
    "A função que a cada ponto x associa a derivada neste ponto de f(x) é chamada de função derivada de f(x)."
   ]
  },
  {
   "cell_type": "markdown",
   "metadata": {},
   "source": [
    "![title](imagens/derivada.gif)"
   ]
  },
  {
   "cell_type": "markdown",
   "metadata": {},
   "source": [
    "Em cada ponto, a derivada de f(x) é a tangente do ângulo que a reta tangente à curva faz em relação ao eixo das abscissas. A reta é sempre tangente à curva azul; a tangente do ângulo que ela faz com o eixo das abscissas é a derivada. Note-se que a derivada é positiva quando verde, negativa quando vermelha, e zero quando preta.\n",
    "\n",
    "A derivada de uma função y = f(x) num ponto x = x0, é igual ao valor da tangente trigonométrica do ângulo formado pela tangente geométrica à curva representativa de y=f(x), no ponto x = x0, ou seja, a derivada é o coeficiente angular da reta tangente ao gráfico da função no ponto x0.\n",
    "\n",
    "A função derivada é representada por f'(x)."
   ]
  },
  {
   "cell_type": "code",
   "execution_count": 5,
   "metadata": {},
   "outputs": [],
   "source": [
    "# Função sigmóide\n",
    "# Entrega valores entre 0 e 1.\n",
    "def sigmoid(Z):\n",
    "    A = 1 / (1 + np.exp(-Z))\n",
    "    return A, Z"
   ]
  },
  {
   "cell_type": "markdown",
   "metadata": {},
   "source": [
    "### Desenvolvendo a Função ReLU\n",
    "\n",
    "Para usar a descida de gradiente estocástico com retropropagação de erros para treinar redes neurais profundas, é necessária uma função de ativação que se assemelhe e atue como uma função linear, mas é, de fato, uma função não linear que permite que relacionamentos complexos nos dados sejam aprendidos.\n",
    "\n",
    "A solução é usar a função de ativação linear retificada ou ReL para abreviar. Um nó ou unidade que implementa essa função de ativação é chamado de unidade de ativação linear retificada ou ReLU, para abreviar. Frequentemente, as redes que usam a função retificadora para as camadas ocultas são chamadas de redes retificadas.\n",
    "\n",
    "A função ReLU é definida como 𝑓(𝑥) = max (0, 𝑥). Normalmente, ela é aplicada elemento a elemento à saída de alguma outra função, como um produto de vetor e matriz. \n",
    "\n",
    "A adoção da ReLU pode ser facilmente considerada um dos marcos na revolução do aprendizado profundo, por ex. as técnicas que agora permitem o desenvolvimento rotineiro de redes neurais muito profundas.\n",
    "\n",
    "A derivada da função linear retificada também é fácil de calcular. **A derivada da função de ativação é necessária ao atualizar os pesos de um nó como parte da retropropagação de erro.**\n",
    "\n",
    "A derivada da função é a inclinação. A inclinação para valores negativos é 0,0 e a inclinação para valores positivos é 1,0.\n",
    "\n",
    "Tradicionalmente, o campo das redes neurais evitou qualquer função de ativação que não fosse completamente diferenciável, talvez adiando a adoção da função linear retificada e de outras funções lineares. Tecnicamente, não podemos calcular a derivada quando a entrada é 0,0; portanto, podemos assumir que é zero. Este não é um problema na prática.\n",
    "\n",
    "Os gradientes das ativações tangentes e hiperbólicas são menores que a porção positiva da ReLU. Isso significa que a parte positiva é atualizada mais rapidamente à medida que o treinamento avança. No entanto, isso tem um custo. O gradiente 0 no lado esquerdo tem seu próprio problema, chamado \"neurônios mortos\", no qual uma atualização de gradiente define os valores recebidos para uma ReLU, de modo que a saída é sempre zero; unidades ReLU modificadas, como ELU (ou Leaky ReLU, ou PReLU, etc.) podem melhorar isso."
   ]
  },
  {
   "cell_type": "markdown",
   "metadata": {},
   "source": [
    "![title](imagens/relu.png)"
   ]
  },
  {
   "cell_type": "markdown",
   "metadata": {},
   "source": [
    "A saída da função relu durante o Forward propagation é sempre positivo. Valores negativos serão transformados em 0."
   ]
  },
  {
   "cell_type": "code",
   "execution_count": 6,
   "metadata": {},
   "outputs": [],
   "source": [
    "# Função de ativação ReLu (Rectified Linear Unit)\n",
    "# Parametros de entrada são multiplacados pelos Pesos (pré-definidos) que gera uma saída multiplicada pelo Bias que é o \n",
    "# parametro de entrada da função ReLu.\n",
    "def relu(Z):\n",
    "    A = abs(Z * (Z > 0))\n",
    "    return A, Z"
   ]
  },
  {
   "cell_type": "markdown",
   "metadata": {},
   "source": [
    "![title](imagens/net-relu.png)"
   ]
  },
  {
   "cell_type": "markdown",
   "metadata": {},
   "source": [
    "### Desenvolvendo a Ativação Linear"
   ]
  },
  {
   "cell_type": "code",
   "execution_count": 7,
   "metadata": {},
   "outputs": [],
   "source": [
    "# Operação de ativação\n",
    "# A é a matriz com os dados de entrada\n",
    "# W é a matriz de pesos\n",
    "# b é o bias\n",
    "def linear_activation(A, W, b):\n",
    "    Z = np.dot(W, A) + b\n",
    "    cache = (A, W, b)\n",
    "    return Z, cache\n",
    "\n",
    "# O resultado da função de ativação é a entrada da função Relu ou Sigmoid"
   ]
  },
  {
   "cell_type": "markdown",
   "metadata": {},
   "source": [
    "### Construindo o Processo de Forward Propagation"
   ]
  },
  {
   "cell_type": "code",
   "execution_count": 8,
   "metadata": {},
   "outputs": [],
   "source": [
    "# Movimento para frente (forward)\n",
    "def forward(A_prev, W, b, activation):\n",
    "    \n",
    "    # Se a função de ativação for Sigmoid, entramos neste bloco\n",
    "    if activation == \"sigmoid\":\n",
    "        Z, linear_cache = linear_activation(A_prev, W, b)\n",
    "        A, activation_cache = sigmoid(Z)\n",
    "        \n",
    "    # Se não, se for ReLu, entramos neste bloco    \n",
    "    elif activation == \"relu\":\n",
    "        Z, linear_cache = linear_activation(A_prev, W, b)\n",
    "        A, activation_cache = relu(Z)\n",
    "        \n",
    "    cache = (linear_cache, activation_cache)\n",
    "    \n",
    "    return A, cache"
   ]
  },
  {
   "cell_type": "markdown",
   "metadata": {},
   "source": [
    "### Combinando Ativação e Propagação"
   ]
  },
  {
   "cell_type": "code",
   "execution_count": 9,
   "metadata": {},
   "outputs": [],
   "source": [
    "# Propagação para frente\n",
    "def forward_propagation(X, parameters):\n",
    "    \n",
    "    # Lista de valores anteriores (cache)\n",
    "    caches = []\n",
    "    \n",
    "    # Dados de entrada\n",
    "    A = X\n",
    "    \n",
    "    # Comprimento dos parâmetros\n",
    "    L = len(parameters) // 2\n",
    "   \n",
    "    # Loop\n",
    "    for i in range(1, L):\n",
    "      \n",
    "        # Guarda o valor prévio de A\n",
    "        A_prev = A\n",
    "        \n",
    "        # Executa o forward\n",
    "        A, cache = forward(A_prev, parameters[\"W\" + str(i)], parameters[\"b\" + str(i)], activation = \"relu\")\n",
    "        \n",
    "        # Grava o cache\n",
    "        caches.append(cache)\n",
    "    \n",
    "    # Saída na última camada\n",
    "    A_last, cache = forward(A, parameters[\"W\" + str(L)], parameters[\"b\" + str(L)], activation = \"sigmoid\")\n",
    "    \n",
    "    # Grava o cache\n",
    "    caches.append(cache)\n",
    "    \n",
    "    return(A_last, caches)"
   ]
  },
  {
   "cell_type": "markdown",
   "metadata": {},
   "source": [
    "### Desenvolvendo a Função de Custo"
   ]
  },
  {
   "cell_type": "markdown",
   "metadata": {},
   "source": [
    "![title](imagens/custo.png)"
   ]
  },
  {
   "cell_type": "code",
   "execution_count": 10,
   "metadata": {},
   "outputs": [],
   "source": [
    "# Função de custo (ou função de erro)\n",
    "def calcula_custo(A_last, Y):\n",
    "    \n",
    "    # Ajusta o shape de Y para obter seu comprimento (total de elementos)\n",
    "    m = Y.shape[1]\n",
    "    \n",
    "    # Calcula o custo comparando valor real e previso\n",
    "    custo = (-1 / m) * np.sum((Y * np.log(A_last)) + ((1 - Y) * np.log(1 - A_last)))\n",
    "    \n",
    "    # Ajusta o shape do custo\n",
    "    custo = np.squeeze(custo)\n",
    "    \n",
    "    return(custo)"
   ]
  },
  {
   "cell_type": "markdown",
   "metadata": {},
   "source": [
    "### Parte 1B - Backward Propagation"
   ]
  },
  {
   "cell_type": "markdown",
   "metadata": {},
   "source": [
    "![title](imagens/backpropagation.png)"
   ]
  },
  {
   "cell_type": "markdown",
   "metadata": {},
   "source": [
    "### Desenvolvendo o Backward Propagation - Função Sigmóide Backward"
   ]
  },
  {
   "cell_type": "code",
   "execution_count": 11,
   "metadata": {},
   "outputs": [],
   "source": [
    "# Função sigmoid para o backpropagation \n",
    "# Fazemos o cálculo da derivada pois não queremos o valor completo da função, mas sim sua variação\n",
    "def sigmoid_backward(da, Z):\n",
    "    \n",
    "    # Calculamos a derivada de Z\n",
    "    dg = (1 / (1 + np.exp(-Z))) * (1 - (1 / (1 + np.exp(-Z))))\n",
    "    \n",
    "    # Encontramos a mudança na derivada de z\n",
    "    dz = da * dg\n",
    "    return dz\n",
    "\n",
    "# Compare com a função sigmoid do forward propagation\n",
    "# A = 1 / (1 + np.exp(-Z))"
   ]
  },
  {
   "cell_type": "markdown",
   "metadata": {},
   "source": [
    "### Desenvolvendo o Backward Propagation - Função ReLu Backward"
   ]
  },
  {
   "cell_type": "code",
   "execution_count": 12,
   "metadata": {},
   "outputs": [],
   "source": [
    "# Função relu para o backpropagation \n",
    "# Fazemos o cálculo da derivada pois não queremos o valor completo da função, mas sim sua variação\n",
    "def relu_backward(da, Z):\n",
    "    \n",
    "    dg = 1 * ( Z >= 0)\n",
    "    dz = da * dg\n",
    "    return dz\n",
    "\n",
    "# Compare com a função relu do forward propagation:\n",
    "# A = abs(Z * (Z > 0))"
   ]
  },
  {
   "cell_type": "markdown",
   "metadata": {},
   "source": [
    "### Desenvolvendo o Backward Propagation - Ativação Linear Backward"
   ]
  },
  {
   "cell_type": "code",
   "execution_count": 13,
   "metadata": {},
   "outputs": [],
   "source": [
    "# Ativação linear para o backpropagation\n",
    "def linear_backward_function(dz, cache):\n",
    "    \n",
    "    # Recebe os valores do cache (memória)\n",
    "    A_prev, W, b = cache\n",
    "    \n",
    "    # Shape de m\n",
    "    m = A_prev.shape[1]\n",
    "    \n",
    "    # Calcula a derivada de W (resultado da operação com dz)\n",
    "    dW = (1 / m) * np.dot(dz, A_prev.T)\n",
    "    \n",
    "    # Calcula a derivada de b (resultado da operação com dz)\n",
    "    db = (1 / m) * np.sum(dz, axis = 1, keepdims = True)\n",
    "    \n",
    "    # Calcula a derivada da operação\n",
    "    dA_prev = np.dot(W.T, dz)\n",
    "    \n",
    "    return dA_prev, dW, db"
   ]
  },
  {
   "cell_type": "markdown",
   "metadata": {},
   "source": [
    "### Desenvolvendo o Backward Propagation - Ativação Linear Backward"
   ]
  },
  {
   "cell_type": "code",
   "execution_count": 14,
   "metadata": {},
   "outputs": [],
   "source": [
    "# Função que define o tipo de ativação (relu ou sigmoid)\n",
    "def linear_activation_backward(dA, cache, activation):\n",
    "    \n",
    "    # Extrai o cache\n",
    "    linear_cache, activation_cache = cache\n",
    "    \n",
    "    # Verifica se a ativação é relu\n",
    "    if activation == \"relu\":\n",
    "        dZ = relu_backward(dA, activation_cache)\n",
    "        dA_prev, dW, db = linear_backward_function(dZ, linear_cache)\n",
    "        \n",
    "    # Verifica se a ativação é sigmoid\n",
    "    if activation == \"sigmoid\":\n",
    "        dZ = sigmoid_backward(dA, activation_cache)\n",
    "        dA_prev, dW, db = linear_backward_function(dZ, linear_cache)\n",
    "        \n",
    "    return dA_prev, dW, db"
   ]
  },
  {
   "cell_type": "markdown",
   "metadata": {},
   "source": [
    "### Combinando Ativação e Retropropagação - Algoritmo Backpropagation"
   ]
  },
  {
   "cell_type": "code",
   "execution_count": 15,
   "metadata": {},
   "outputs": [],
   "source": [
    "# Algoritmo Backpropagation (calcula os gradientes para atualização dos pesos)\n",
    "# AL = Valor previsto no Forward\n",
    "# Y = Valor real\n",
    "def backward_propagation(AL, Y, caches):\n",
    "    \n",
    "    # Dicionário para os gradientes\n",
    "    grads = {}\n",
    "    \n",
    "    # Comprimento dos dados (que estão no cache)\n",
    "    L = len(caches)\n",
    "    \n",
    "    # Extrai o comprimento para o valor de m\n",
    "    m = AL.shape[1]\n",
    "    \n",
    "    # Ajusta o shape de Y\n",
    "    Y = Y.reshape(AL.shape)\n",
    "    \n",
    "    # Calcula a derivada da previsão final da rede (feita ao final do Forward Propagation)\n",
    "    dAL = -((Y / AL) - ((1 - Y) / (1 - AL)))\n",
    "    \n",
    "    # Captura o valor corrente do cache\n",
    "    current_cache = caches[L - 1]\n",
    "    \n",
    "    # Gera a lista de gradiente para os dados, os pesos e o bias\n",
    "    # Fazemos isso uma vez, pois estamos na parte final da rede, iniciando o caminho de volta\n",
    "    grads[\"dA\" + str(L - 1)], grads[\"dW\" + str(L)], grads[\"db\" + str(L)] = linear_activation_backward(dAL, current_cache, activation = \"sigmoid\")\n",
    "    \n",
    "    # Loop para calcular a derivada durante as ativações lineares com a relu\n",
    "    for l in reversed(range(L - 1)):\n",
    "        \n",
    "        # Cache atual\n",
    "        current_cache = caches[l]\n",
    "        \n",
    "        # Calcula as derivadas\n",
    "        dA_prev, dW, db = linear_activation_backward(grads[\"dA\" + str(l + 1)], current_cache, activation = \"relu\")\n",
    "        \n",
    "        # Alimenta os gradientes na lista, usando o índice respectivo\n",
    "        grads[\"dA\" + str(l)] = dA_prev\n",
    "        grads[\"dW\" + str(l + 1)] = dW\n",
    "        grads[\"db\" + str(l + 1)] = db\n",
    "        \n",
    "    return grads"
   ]
  },
  {
   "cell_type": "markdown",
   "metadata": {},
   "source": [
    "### Gradientes e Atualização dos Pesos"
   ]
  },
  {
   "cell_type": "code",
   "execution_count": 16,
   "metadata": {},
   "outputs": [],
   "source": [
    "# Função de atualização de pesos\n",
    "def atualiza_pesos(parameters, grads, learning_rate):\n",
    "    \n",
    "    # Comprimento da estrutura de dados com os parâmetros (pesos e bias)\n",
    "    L = len(parameters)//2\n",
    "    \n",
    "    # Loop para atualização dos pesos\n",
    "    for l in range(L):\n",
    "        \n",
    "        # Atualização dos pesos\n",
    "        parameters[\"W\" + str(l + 1)] = parameters[\"W\" + str(l + 1)] - (learning_rate * grads[\"dW\" + str(l + 1)])\n",
    "        \n",
    "        # Atualização do bias\n",
    "        parameters[\"b\" + str(l + 1)] = parameters[\"b\" + str(l + 1)] - (learning_rate * grads[\"db\" + str(l + 1)])\n",
    "    \n",
    "    return parameters"
   ]
  },
  {
   "cell_type": "markdown",
   "metadata": {},
   "source": [
    "### Implementando a Rede Completa"
   ]
  },
  {
   "cell_type": "code",
   "execution_count": 17,
   "metadata": {},
   "outputs": [],
   "source": [
    "# Modelo completo da rede neural\n",
    "def modeloNN(X, Y, dims_camada_entrada, learning_rate = 0.0075, num_iterations = 100):\n",
    "    \n",
    "    # Lista para receber o custo a cada época de treinamento\n",
    "    custos = []\n",
    "    \n",
    "    # Inicializa os parâmetros\n",
    "    parametros = inicializa_parametros(dims_camada_entrada)\n",
    "    \n",
    "    # Loop pelo número de iterações (épocas)\n",
    "    for i in range(num_iterations):\n",
    "        \n",
    "        # Forward Propagation\n",
    "        AL, caches = forward_propagation(X, parametros)\n",
    "        \n",
    "        # Calcula o custo\n",
    "        custo = calcula_custo(AL, Y)\n",
    "        \n",
    "        # Backward Propagation\n",
    "        # Nota: ao invés de AL e Y, poderíamos passar somente o valor do custo\n",
    "        # Estamos passando o valor de AL e Y para fique claro didaticamente o que está sendo feito\n",
    "        gradientes = backward_propagation(AL, Y, caches)\n",
    "        \n",
    "        # Atualiza os pesos\n",
    "        parametros = atualiza_pesos(parametros, gradientes, learning_rate)\n",
    "        \n",
    "        # Print do valor intermediário do custo\n",
    "        # A redução do custo indica o aprendizado do modelo\n",
    "        if i % 10 == 0:\n",
    "            print(\"Custo Após \" + str(i) + \" iterações é \" + str(custo))\n",
    "            custos.append(custo)\n",
    "            \n",
    "    return parametros, custos "
   ]
  },
  {
   "cell_type": "code",
   "execution_count": 18,
   "metadata": {},
   "outputs": [],
   "source": [
    "# Função para fazer as previsões\n",
    "# Não precisamos do Backpropagation pois ao fazer previsões como o modelo treinado, \n",
    "# teremos os melhores valores de pesos (parametros)\n",
    "def predict(X, parametros):\n",
    "    AL, caches = forward_propagation(X, parametros)\n",
    "    return AL"
   ]
  },
  {
   "cell_type": "markdown",
   "metadata": {},
   "source": [
    "### Parte 2 - Treinamento da rede para Prever a Ocorrência de Câncer"
   ]
  },
  {
   "cell_type": "code",
   "execution_count": 19,
   "metadata": {},
   "outputs": [],
   "source": [
    "# Imports\n",
    "import sklearn\n",
    "import numpy as np\n",
    "import pandas as pd\n",
    "import matplotlib\n",
    "import matplotlib.pyplot as plt\n",
    "from sklearn.datasets import load_breast_cancer\n",
    "from sklearn.model_selection import train_test_split\n",
    "from sklearn.metrics import classification_report"
   ]
  },
  {
   "cell_type": "markdown",
   "metadata": {},
   "source": [
    "### Carregando os Dados\n",
    "\n",
    "https://scikit-learn.org/stable/datasets/index.html#breast-cancer-dataset"
   ]
  },
  {
   "cell_type": "code",
   "execution_count": 20,
   "metadata": {},
   "outputs": [],
   "source": [
    "# Carregamos o objeto completo\n",
    "temp = load_breast_cancer()"
   ]
  },
  {
   "cell_type": "code",
   "execution_count": 21,
   "metadata": {},
   "outputs": [
    {
     "data": {
      "text/plain": [
       "sklearn.utils.Bunch"
      ]
     },
     "execution_count": 21,
     "metadata": {},
     "output_type": "execute_result"
    }
   ],
   "source": [
    "# Tipo do objeto\n",
    "type(temp)"
   ]
  },
  {
   "cell_type": "code",
   "execution_count": 22,
   "metadata": {},
   "outputs": [
    {
     "data": {
      "text/plain": [
       "{'data': array([[1.799e+01, 1.038e+01, 1.228e+02, ..., 2.654e-01, 4.601e-01,\n",
       "         1.189e-01],\n",
       "        [2.057e+01, 1.777e+01, 1.329e+02, ..., 1.860e-01, 2.750e-01,\n",
       "         8.902e-02],\n",
       "        [1.969e+01, 2.125e+01, 1.300e+02, ..., 2.430e-01, 3.613e-01,\n",
       "         8.758e-02],\n",
       "        ...,\n",
       "        [1.660e+01, 2.808e+01, 1.083e+02, ..., 1.418e-01, 2.218e-01,\n",
       "         7.820e-02],\n",
       "        [2.060e+01, 2.933e+01, 1.401e+02, ..., 2.650e-01, 4.087e-01,\n",
       "         1.240e-01],\n",
       "        [7.760e+00, 2.454e+01, 4.792e+01, ..., 0.000e+00, 2.871e-01,\n",
       "         7.039e-02]]),\n",
       " 'target': array([0, 0, 0, 0, 0, 0, 0, 0, 0, 0, 0, 0, 0, 0, 0, 0, 0, 0, 0, 1, 1, 1,\n",
       "        0, 0, 0, 0, 0, 0, 0, 0, 0, 0, 0, 0, 0, 0, 0, 1, 0, 0, 0, 0, 0, 0,\n",
       "        0, 0, 1, 0, 1, 1, 1, 1, 1, 0, 0, 1, 0, 0, 1, 1, 1, 1, 0, 1, 0, 0,\n",
       "        1, 1, 1, 1, 0, 1, 0, 0, 1, 0, 1, 0, 0, 1, 1, 1, 0, 0, 1, 0, 0, 0,\n",
       "        1, 1, 1, 0, 1, 1, 0, 0, 1, 1, 1, 0, 0, 1, 1, 1, 1, 0, 1, 1, 0, 1,\n",
       "        1, 1, 1, 1, 1, 1, 1, 0, 0, 0, 1, 0, 0, 1, 1, 1, 0, 0, 1, 0, 1, 0,\n",
       "        0, 1, 0, 0, 1, 1, 0, 1, 1, 0, 1, 1, 1, 1, 0, 1, 1, 1, 1, 1, 1, 1,\n",
       "        1, 1, 0, 1, 1, 1, 1, 0, 0, 1, 0, 1, 1, 0, 0, 1, 1, 0, 0, 1, 1, 1,\n",
       "        1, 0, 1, 1, 0, 0, 0, 1, 0, 1, 0, 1, 1, 1, 0, 1, 1, 0, 0, 1, 0, 0,\n",
       "        0, 0, 1, 0, 0, 0, 1, 0, 1, 0, 1, 1, 0, 1, 0, 0, 0, 0, 1, 1, 0, 0,\n",
       "        1, 1, 1, 0, 1, 1, 1, 1, 1, 0, 0, 1, 1, 0, 1, 1, 0, 0, 1, 0, 1, 1,\n",
       "        1, 1, 0, 1, 1, 1, 1, 1, 0, 1, 0, 0, 0, 0, 0, 0, 0, 0, 0, 0, 0, 0,\n",
       "        0, 0, 1, 1, 1, 1, 1, 1, 0, 1, 0, 1, 1, 0, 1, 1, 0, 1, 0, 0, 1, 1,\n",
       "        1, 1, 1, 1, 1, 1, 1, 1, 1, 1, 1, 0, 1, 1, 0, 1, 0, 1, 1, 1, 1, 1,\n",
       "        1, 1, 1, 1, 1, 1, 1, 1, 1, 0, 1, 1, 1, 0, 1, 0, 1, 1, 1, 1, 0, 0,\n",
       "        0, 1, 1, 1, 1, 0, 1, 0, 1, 0, 1, 1, 1, 0, 1, 1, 1, 1, 1, 1, 1, 0,\n",
       "        0, 0, 1, 1, 1, 1, 1, 1, 1, 1, 1, 1, 1, 0, 0, 1, 0, 0, 0, 1, 0, 0,\n",
       "        1, 1, 1, 1, 1, 0, 1, 1, 1, 1, 1, 0, 1, 1, 1, 0, 1, 1, 0, 0, 1, 1,\n",
       "        1, 1, 1, 1, 0, 1, 1, 1, 1, 1, 1, 1, 0, 1, 1, 1, 1, 1, 0, 1, 1, 0,\n",
       "        1, 1, 1, 1, 1, 1, 1, 1, 1, 1, 1, 1, 0, 1, 0, 0, 1, 0, 1, 1, 1, 1,\n",
       "        1, 0, 1, 1, 0, 1, 0, 1, 1, 0, 1, 0, 1, 1, 1, 1, 1, 1, 1, 1, 0, 0,\n",
       "        1, 1, 1, 1, 1, 1, 0, 1, 1, 1, 1, 1, 1, 1, 1, 1, 1, 0, 1, 1, 1, 1,\n",
       "        1, 1, 1, 0, 1, 0, 1, 1, 0, 1, 1, 1, 1, 1, 0, 0, 1, 0, 1, 0, 1, 1,\n",
       "        1, 1, 1, 0, 1, 1, 0, 1, 0, 1, 0, 0, 1, 1, 1, 0, 1, 1, 1, 1, 1, 1,\n",
       "        1, 1, 1, 1, 1, 0, 1, 0, 0, 1, 1, 1, 1, 1, 1, 1, 1, 1, 1, 1, 1, 1,\n",
       "        1, 1, 1, 1, 1, 1, 1, 1, 1, 1, 1, 1, 0, 0, 0, 0, 0, 0, 1]),\n",
       " 'frame': None,\n",
       " 'target_names': array(['malignant', 'benign'], dtype='<U9'),\n",
       " 'DESCR': '.. _breast_cancer_dataset:\\n\\nBreast cancer wisconsin (diagnostic) dataset\\n--------------------------------------------\\n\\n**Data Set Characteristics:**\\n\\n    :Number of Instances: 569\\n\\n    :Number of Attributes: 30 numeric, predictive attributes and the class\\n\\n    :Attribute Information:\\n        - radius (mean of distances from center to points on the perimeter)\\n        - texture (standard deviation of gray-scale values)\\n        - perimeter\\n        - area\\n        - smoothness (local variation in radius lengths)\\n        - compactness (perimeter^2 / area - 1.0)\\n        - concavity (severity of concave portions of the contour)\\n        - concave points (number of concave portions of the contour)\\n        - symmetry\\n        - fractal dimension (\"coastline approximation\" - 1)\\n\\n        The mean, standard error, and \"worst\" or largest (mean of the three\\n        worst/largest values) of these features were computed for each image,\\n        resulting in 30 features.  For instance, field 0 is Mean Radius, field\\n        10 is Radius SE, field 20 is Worst Radius.\\n\\n        - class:\\n                - WDBC-Malignant\\n                - WDBC-Benign\\n\\n    :Summary Statistics:\\n\\n    ===================================== ====== ======\\n                                           Min    Max\\n    ===================================== ====== ======\\n    radius (mean):                        6.981  28.11\\n    texture (mean):                       9.71   39.28\\n    perimeter (mean):                     43.79  188.5\\n    area (mean):                          143.5  2501.0\\n    smoothness (mean):                    0.053  0.163\\n    compactness (mean):                   0.019  0.345\\n    concavity (mean):                     0.0    0.427\\n    concave points (mean):                0.0    0.201\\n    symmetry (mean):                      0.106  0.304\\n    fractal dimension (mean):             0.05   0.097\\n    radius (standard error):              0.112  2.873\\n    texture (standard error):             0.36   4.885\\n    perimeter (standard error):           0.757  21.98\\n    area (standard error):                6.802  542.2\\n    smoothness (standard error):          0.002  0.031\\n    compactness (standard error):         0.002  0.135\\n    concavity (standard error):           0.0    0.396\\n    concave points (standard error):      0.0    0.053\\n    symmetry (standard error):            0.008  0.079\\n    fractal dimension (standard error):   0.001  0.03\\n    radius (worst):                       7.93   36.04\\n    texture (worst):                      12.02  49.54\\n    perimeter (worst):                    50.41  251.2\\n    area (worst):                         185.2  4254.0\\n    smoothness (worst):                   0.071  0.223\\n    compactness (worst):                  0.027  1.058\\n    concavity (worst):                    0.0    1.252\\n    concave points (worst):               0.0    0.291\\n    symmetry (worst):                     0.156  0.664\\n    fractal dimension (worst):            0.055  0.208\\n    ===================================== ====== ======\\n\\n    :Missing Attribute Values: None\\n\\n    :Class Distribution: 212 - Malignant, 357 - Benign\\n\\n    :Creator:  Dr. William H. Wolberg, W. Nick Street, Olvi L. Mangasarian\\n\\n    :Donor: Nick Street\\n\\n    :Date: November, 1995\\n\\nThis is a copy of UCI ML Breast Cancer Wisconsin (Diagnostic) datasets.\\nhttps://goo.gl/U2Uwz2\\n\\nFeatures are computed from a digitized image of a fine needle\\naspirate (FNA) of a breast mass.  They describe\\ncharacteristics of the cell nuclei present in the image.\\n\\nSeparating plane described above was obtained using\\nMultisurface Method-Tree (MSM-T) [K. P. Bennett, \"Decision Tree\\nConstruction Via Linear Programming.\" Proceedings of the 4th\\nMidwest Artificial Intelligence and Cognitive Science Society,\\npp. 97-101, 1992], a classification method which uses linear\\nprogramming to construct a decision tree.  Relevant features\\nwere selected using an exhaustive search in the space of 1-4\\nfeatures and 1-3 separating planes.\\n\\nThe actual linear program used to obtain the separating plane\\nin the 3-dimensional space is that described in:\\n[K. P. Bennett and O. L. Mangasarian: \"Robust Linear\\nProgramming Discrimination of Two Linearly Inseparable Sets\",\\nOptimization Methods and Software 1, 1992, 23-34].\\n\\nThis database is also available through the UW CS ftp server:\\n\\nftp ftp.cs.wisc.edu\\ncd math-prog/cpo-dataset/machine-learn/WDBC/\\n\\n.. topic:: References\\n\\n   - W.N. Street, W.H. Wolberg and O.L. Mangasarian. Nuclear feature extraction \\n     for breast tumor diagnosis. IS&T/SPIE 1993 International Symposium on \\n     Electronic Imaging: Science and Technology, volume 1905, pages 861-870,\\n     San Jose, CA, 1993.\\n   - O.L. Mangasarian, W.N. Street and W.H. Wolberg. Breast cancer diagnosis and \\n     prognosis via linear programming. Operations Research, 43(4), pages 570-577, \\n     July-August 1995.\\n   - W.H. Wolberg, W.N. Street, and O.L. Mangasarian. Machine learning techniques\\n     to diagnose breast cancer from fine-needle aspirates. Cancer Letters 77 (1994) \\n     163-171.',\n",
       " 'feature_names': array(['mean radius', 'mean texture', 'mean perimeter', 'mean area',\n",
       "        'mean smoothness', 'mean compactness', 'mean concavity',\n",
       "        'mean concave points', 'mean symmetry', 'mean fractal dimension',\n",
       "        'radius error', 'texture error', 'perimeter error', 'area error',\n",
       "        'smoothness error', 'compactness error', 'concavity error',\n",
       "        'concave points error', 'symmetry error',\n",
       "        'fractal dimension error', 'worst radius', 'worst texture',\n",
       "        'worst perimeter', 'worst area', 'worst smoothness',\n",
       "        'worst compactness', 'worst concavity', 'worst concave points',\n",
       "        'worst symmetry', 'worst fractal dimension'], dtype='<U23'),\n",
       " 'filename': 'C:\\\\Users\\\\rafael.rampineli\\\\AppData\\\\Local\\\\Continuum\\\\anaconda3\\\\lib\\\\site-packages\\\\sklearn\\\\datasets\\\\data\\\\breast_cancer.csv'}"
      ]
     },
     "execution_count": 22,
     "metadata": {},
     "output_type": "execute_result"
    }
   ],
   "source": [
    "# Visualiza o objeto\n",
    "temp"
   ]
  },
  {
   "cell_type": "code",
   "execution_count": 23,
   "metadata": {},
   "outputs": [],
   "source": [
    "# Carregamos o dataset\n",
    "dados = pd.DataFrame(columns = load_breast_cancer()[\"feature_names\"], data = load_breast_cancer()[\"data\"])"
   ]
  },
  {
   "cell_type": "code",
   "execution_count": 24,
   "metadata": {},
   "outputs": [
    {
     "data": {
      "text/plain": [
       "(569, 30)"
      ]
     },
     "execution_count": 24,
     "metadata": {},
     "output_type": "execute_result"
    }
   ],
   "source": [
    "# Shape\n",
    "dados.shape"
   ]
  },
  {
   "cell_type": "code",
   "execution_count": 25,
   "metadata": {},
   "outputs": [
    {
     "data": {
      "text/html": [
       "<div>\n",
       "<style scoped>\n",
       "    .dataframe tbody tr th:only-of-type {\n",
       "        vertical-align: middle;\n",
       "    }\n",
       "\n",
       "    .dataframe tbody tr th {\n",
       "        vertical-align: top;\n",
       "    }\n",
       "\n",
       "    .dataframe thead th {\n",
       "        text-align: right;\n",
       "    }\n",
       "</style>\n",
       "<table border=\"1\" class=\"dataframe\">\n",
       "  <thead>\n",
       "    <tr style=\"text-align: right;\">\n",
       "      <th></th>\n",
       "      <th>mean radius</th>\n",
       "      <th>mean texture</th>\n",
       "      <th>mean perimeter</th>\n",
       "      <th>mean area</th>\n",
       "      <th>mean smoothness</th>\n",
       "      <th>mean compactness</th>\n",
       "      <th>mean concavity</th>\n",
       "      <th>mean concave points</th>\n",
       "      <th>mean symmetry</th>\n",
       "      <th>mean fractal dimension</th>\n",
       "      <th>...</th>\n",
       "      <th>worst radius</th>\n",
       "      <th>worst texture</th>\n",
       "      <th>worst perimeter</th>\n",
       "      <th>worst area</th>\n",
       "      <th>worst smoothness</th>\n",
       "      <th>worst compactness</th>\n",
       "      <th>worst concavity</th>\n",
       "      <th>worst concave points</th>\n",
       "      <th>worst symmetry</th>\n",
       "      <th>worst fractal dimension</th>\n",
       "    </tr>\n",
       "  </thead>\n",
       "  <tbody>\n",
       "    <tr>\n",
       "      <th>0</th>\n",
       "      <td>17.99</td>\n",
       "      <td>10.38</td>\n",
       "      <td>122.80</td>\n",
       "      <td>1001.0</td>\n",
       "      <td>0.11840</td>\n",
       "      <td>0.27760</td>\n",
       "      <td>0.3001</td>\n",
       "      <td>0.14710</td>\n",
       "      <td>0.2419</td>\n",
       "      <td>0.07871</td>\n",
       "      <td>...</td>\n",
       "      <td>25.38</td>\n",
       "      <td>17.33</td>\n",
       "      <td>184.60</td>\n",
       "      <td>2019.0</td>\n",
       "      <td>0.1622</td>\n",
       "      <td>0.6656</td>\n",
       "      <td>0.7119</td>\n",
       "      <td>0.2654</td>\n",
       "      <td>0.4601</td>\n",
       "      <td>0.11890</td>\n",
       "    </tr>\n",
       "    <tr>\n",
       "      <th>1</th>\n",
       "      <td>20.57</td>\n",
       "      <td>17.77</td>\n",
       "      <td>132.90</td>\n",
       "      <td>1326.0</td>\n",
       "      <td>0.08474</td>\n",
       "      <td>0.07864</td>\n",
       "      <td>0.0869</td>\n",
       "      <td>0.07017</td>\n",
       "      <td>0.1812</td>\n",
       "      <td>0.05667</td>\n",
       "      <td>...</td>\n",
       "      <td>24.99</td>\n",
       "      <td>23.41</td>\n",
       "      <td>158.80</td>\n",
       "      <td>1956.0</td>\n",
       "      <td>0.1238</td>\n",
       "      <td>0.1866</td>\n",
       "      <td>0.2416</td>\n",
       "      <td>0.1860</td>\n",
       "      <td>0.2750</td>\n",
       "      <td>0.08902</td>\n",
       "    </tr>\n",
       "    <tr>\n",
       "      <th>2</th>\n",
       "      <td>19.69</td>\n",
       "      <td>21.25</td>\n",
       "      <td>130.00</td>\n",
       "      <td>1203.0</td>\n",
       "      <td>0.10960</td>\n",
       "      <td>0.15990</td>\n",
       "      <td>0.1974</td>\n",
       "      <td>0.12790</td>\n",
       "      <td>0.2069</td>\n",
       "      <td>0.05999</td>\n",
       "      <td>...</td>\n",
       "      <td>23.57</td>\n",
       "      <td>25.53</td>\n",
       "      <td>152.50</td>\n",
       "      <td>1709.0</td>\n",
       "      <td>0.1444</td>\n",
       "      <td>0.4245</td>\n",
       "      <td>0.4504</td>\n",
       "      <td>0.2430</td>\n",
       "      <td>0.3613</td>\n",
       "      <td>0.08758</td>\n",
       "    </tr>\n",
       "    <tr>\n",
       "      <th>3</th>\n",
       "      <td>11.42</td>\n",
       "      <td>20.38</td>\n",
       "      <td>77.58</td>\n",
       "      <td>386.1</td>\n",
       "      <td>0.14250</td>\n",
       "      <td>0.28390</td>\n",
       "      <td>0.2414</td>\n",
       "      <td>0.10520</td>\n",
       "      <td>0.2597</td>\n",
       "      <td>0.09744</td>\n",
       "      <td>...</td>\n",
       "      <td>14.91</td>\n",
       "      <td>26.50</td>\n",
       "      <td>98.87</td>\n",
       "      <td>567.7</td>\n",
       "      <td>0.2098</td>\n",
       "      <td>0.8663</td>\n",
       "      <td>0.6869</td>\n",
       "      <td>0.2575</td>\n",
       "      <td>0.6638</td>\n",
       "      <td>0.17300</td>\n",
       "    </tr>\n",
       "    <tr>\n",
       "      <th>4</th>\n",
       "      <td>20.29</td>\n",
       "      <td>14.34</td>\n",
       "      <td>135.10</td>\n",
       "      <td>1297.0</td>\n",
       "      <td>0.10030</td>\n",
       "      <td>0.13280</td>\n",
       "      <td>0.1980</td>\n",
       "      <td>0.10430</td>\n",
       "      <td>0.1809</td>\n",
       "      <td>0.05883</td>\n",
       "      <td>...</td>\n",
       "      <td>22.54</td>\n",
       "      <td>16.67</td>\n",
       "      <td>152.20</td>\n",
       "      <td>1575.0</td>\n",
       "      <td>0.1374</td>\n",
       "      <td>0.2050</td>\n",
       "      <td>0.4000</td>\n",
       "      <td>0.1625</td>\n",
       "      <td>0.2364</td>\n",
       "      <td>0.07678</td>\n",
       "    </tr>\n",
       "  </tbody>\n",
       "</table>\n",
       "<p>5 rows × 30 columns</p>\n",
       "</div>"
      ],
      "text/plain": [
       "   mean radius  mean texture  mean perimeter  mean area  mean smoothness  \\\n",
       "0        17.99         10.38          122.80     1001.0          0.11840   \n",
       "1        20.57         17.77          132.90     1326.0          0.08474   \n",
       "2        19.69         21.25          130.00     1203.0          0.10960   \n",
       "3        11.42         20.38           77.58      386.1          0.14250   \n",
       "4        20.29         14.34          135.10     1297.0          0.10030   \n",
       "\n",
       "   mean compactness  mean concavity  mean concave points  mean symmetry  \\\n",
       "0           0.27760          0.3001              0.14710         0.2419   \n",
       "1           0.07864          0.0869              0.07017         0.1812   \n",
       "2           0.15990          0.1974              0.12790         0.2069   \n",
       "3           0.28390          0.2414              0.10520         0.2597   \n",
       "4           0.13280          0.1980              0.10430         0.1809   \n",
       "\n",
       "   mean fractal dimension  ...  worst radius  worst texture  worst perimeter  \\\n",
       "0                 0.07871  ...         25.38          17.33           184.60   \n",
       "1                 0.05667  ...         24.99          23.41           158.80   \n",
       "2                 0.05999  ...         23.57          25.53           152.50   \n",
       "3                 0.09744  ...         14.91          26.50            98.87   \n",
       "4                 0.05883  ...         22.54          16.67           152.20   \n",
       "\n",
       "   worst area  worst smoothness  worst compactness  worst concavity  \\\n",
       "0      2019.0            0.1622             0.6656           0.7119   \n",
       "1      1956.0            0.1238             0.1866           0.2416   \n",
       "2      1709.0            0.1444             0.4245           0.4504   \n",
       "3       567.7            0.2098             0.8663           0.6869   \n",
       "4      1575.0            0.1374             0.2050           0.4000   \n",
       "\n",
       "   worst concave points  worst symmetry  worst fractal dimension  \n",
       "0                0.2654          0.4601                  0.11890  \n",
       "1                0.1860          0.2750                  0.08902  \n",
       "2                0.2430          0.3613                  0.08758  \n",
       "3                0.2575          0.6638                  0.17300  \n",
       "4                0.1625          0.2364                  0.07678  \n",
       "\n",
       "[5 rows x 30 columns]"
      ]
     },
     "execution_count": 25,
     "metadata": {},
     "output_type": "execute_result"
    }
   ],
   "source": [
    "# Visualiza os dados\n",
    "dados.head()"
   ]
  },
  {
   "cell_type": "code",
   "execution_count": 26,
   "metadata": {},
   "outputs": [
    {
     "data": {
      "text/plain": [
       "mean radius                False\n",
       "mean texture               False\n",
       "mean perimeter             False\n",
       "mean area                  False\n",
       "mean smoothness            False\n",
       "mean compactness           False\n",
       "mean concavity             False\n",
       "mean concave points        False\n",
       "mean symmetry              False\n",
       "mean fractal dimension     False\n",
       "radius error               False\n",
       "texture error              False\n",
       "perimeter error            False\n",
       "area error                 False\n",
       "smoothness error           False\n",
       "compactness error          False\n",
       "concavity error            False\n",
       "concave points error       False\n",
       "symmetry error             False\n",
       "fractal dimension error    False\n",
       "worst radius               False\n",
       "worst texture              False\n",
       "worst perimeter            False\n",
       "worst area                 False\n",
       "worst smoothness           False\n",
       "worst compactness          False\n",
       "worst concavity            False\n",
       "worst concave points       False\n",
       "worst symmetry             False\n",
       "worst fractal dimension    False\n",
       "dtype: bool"
      ]
     },
     "execution_count": 26,
     "metadata": {},
     "output_type": "execute_result"
    }
   ],
   "source": [
    "# Verifica se temos valores ausentes\n",
    "dados.isnull().any()"
   ]
  },
  {
   "cell_type": "code",
   "execution_count": 27,
   "metadata": {},
   "outputs": [],
   "source": [
    "# Separa a variável target\n",
    "target = load_breast_cancer()[\"target\"]"
   ]
  },
  {
   "cell_type": "code",
   "execution_count": 28,
   "metadata": {},
   "outputs": [
    {
     "data": {
      "text/plain": [
       "numpy.ndarray"
      ]
     },
     "execution_count": 28,
     "metadata": {},
     "output_type": "execute_result"
    }
   ],
   "source": [
    "type(target)"
   ]
  },
  {
   "cell_type": "code",
   "execution_count": 29,
   "metadata": {},
   "outputs": [
    {
     "data": {
      "text/plain": [
       "array([0, 0, 0, 0, 0, 0, 0, 0, 0, 0, 0, 0, 0, 0, 0, 0, 0, 0, 0, 1, 1, 1,\n",
       "       0, 0, 0, 0, 0, 0, 0, 0, 0, 0, 0, 0, 0, 0, 0, 1, 0, 0, 0, 0, 0, 0,\n",
       "       0, 0, 1, 0, 1, 1, 1, 1, 1, 0, 0, 1, 0, 0, 1, 1, 1, 1, 0, 1, 0, 0,\n",
       "       1, 1, 1, 1, 0, 1, 0, 0, 1, 0, 1, 0, 0, 1, 1, 1, 0, 0, 1, 0, 0, 0,\n",
       "       1, 1, 1, 0, 1, 1, 0, 0, 1, 1, 1, 0, 0, 1, 1, 1, 1, 0, 1, 1, 0, 1,\n",
       "       1, 1, 1, 1, 1, 1, 1, 0, 0, 0, 1, 0, 0, 1, 1, 1, 0, 0, 1, 0, 1, 0,\n",
       "       0, 1, 0, 0, 1, 1, 0, 1, 1, 0, 1, 1, 1, 1, 0, 1, 1, 1, 1, 1, 1, 1,\n",
       "       1, 1, 0, 1, 1, 1, 1, 0, 0, 1, 0, 1, 1, 0, 0, 1, 1, 0, 0, 1, 1, 1,\n",
       "       1, 0, 1, 1, 0, 0, 0, 1, 0, 1, 0, 1, 1, 1, 0, 1, 1, 0, 0, 1, 0, 0,\n",
       "       0, 0, 1, 0, 0, 0, 1, 0, 1, 0, 1, 1, 0, 1, 0, 0, 0, 0, 1, 1, 0, 0,\n",
       "       1, 1, 1, 0, 1, 1, 1, 1, 1, 0, 0, 1, 1, 0, 1, 1, 0, 0, 1, 0, 1, 1,\n",
       "       1, 1, 0, 1, 1, 1, 1, 1, 0, 1, 0, 0, 0, 0, 0, 0, 0, 0, 0, 0, 0, 0,\n",
       "       0, 0, 1, 1, 1, 1, 1, 1, 0, 1, 0, 1, 1, 0, 1, 1, 0, 1, 0, 0, 1, 1,\n",
       "       1, 1, 1, 1, 1, 1, 1, 1, 1, 1, 1, 0, 1, 1, 0, 1, 0, 1, 1, 1, 1, 1,\n",
       "       1, 1, 1, 1, 1, 1, 1, 1, 1, 0, 1, 1, 1, 0, 1, 0, 1, 1, 1, 1, 0, 0,\n",
       "       0, 1, 1, 1, 1, 0, 1, 0, 1, 0, 1, 1, 1, 0, 1, 1, 1, 1, 1, 1, 1, 0,\n",
       "       0, 0, 1, 1, 1, 1, 1, 1, 1, 1, 1, 1, 1, 0, 0, 1, 0, 0, 0, 1, 0, 0,\n",
       "       1, 1, 1, 1, 1, 0, 1, 1, 1, 1, 1, 0, 1, 1, 1, 0, 1, 1, 0, 0, 1, 1,\n",
       "       1, 1, 1, 1, 0, 1, 1, 1, 1, 1, 1, 1, 0, 1, 1, 1, 1, 1, 0, 1, 1, 0,\n",
       "       1, 1, 1, 1, 1, 1, 1, 1, 1, 1, 1, 1, 0, 1, 0, 0, 1, 0, 1, 1, 1, 1,\n",
       "       1, 0, 1, 1, 0, 1, 0, 1, 1, 0, 1, 0, 1, 1, 1, 1, 1, 1, 1, 1, 0, 0,\n",
       "       1, 1, 1, 1, 1, 1, 0, 1, 1, 1, 1, 1, 1, 1, 1, 1, 1, 0, 1, 1, 1, 1,\n",
       "       1, 1, 1, 0, 1, 0, 1, 1, 0, 1, 1, 1, 1, 1, 0, 0, 1, 0, 1, 0, 1, 1,\n",
       "       1, 1, 1, 0, 1, 1, 0, 1, 0, 1, 0, 0, 1, 1, 1, 0, 1, 1, 1, 1, 1, 1,\n",
       "       1, 1, 1, 1, 1, 0, 1, 0, 0, 1, 1, 1, 1, 1, 1, 1, 1, 1, 1, 1, 1, 1,\n",
       "       1, 1, 1, 1, 1, 1, 1, 1, 1, 1, 1, 1, 0, 0, 0, 0, 0, 0, 1])"
      ]
     },
     "execution_count": 29,
     "metadata": {},
     "output_type": "execute_result"
    }
   ],
   "source": [
    "# Visualiza a variável\n",
    "target"
   ]
  },
  {
   "cell_type": "code",
   "execution_count": 30,
   "metadata": {},
   "outputs": [
    {
     "data": {
      "text/plain": [
       "357"
      ]
     },
     "execution_count": 30,
     "metadata": {},
     "output_type": "execute_result"
    }
   ],
   "source": [
    "# Total de registros por classe - Câncer Benigno\n",
    "np.count_nonzero(target == 1)"
   ]
  },
  {
   "cell_type": "code",
   "execution_count": 31,
   "metadata": {},
   "outputs": [
    {
     "data": {
      "text/plain": [
       "212"
      ]
     },
     "execution_count": 31,
     "metadata": {},
     "output_type": "execute_result"
    }
   ],
   "source": [
    "# Total de registros por classe - Câncer Maligno\n",
    "np.count_nonzero(target == 0)"
   ]
  },
  {
   "cell_type": "code",
   "execution_count": 32,
   "metadata": {},
   "outputs": [],
   "source": [
    "# Vamos extrair os labels\n",
    "\n",
    "# Dicionário para os labels\n",
    "labels = {}\n",
    "\n",
    "# Nomes das classes da variável target\n",
    "target_names = load_breast_cancer()[\"target_names\"]\n",
    "\n",
    "# Mapeamento\n",
    "for i in range(len(target_names)):\n",
    "    labels.update({i:target_names[i]})"
   ]
  },
  {
   "cell_type": "code",
   "execution_count": 33,
   "metadata": {},
   "outputs": [
    {
     "data": {
      "text/plain": [
       "{0: 'malignant', 1: 'benign'}"
      ]
     },
     "execution_count": 33,
     "metadata": {},
     "output_type": "execute_result"
    }
   ],
   "source": [
    "# Visualiza os labels\n",
    "labels"
   ]
  },
  {
   "cell_type": "code",
   "execution_count": 34,
   "metadata": {},
   "outputs": [],
   "source": [
    "# Agora preparamos as variáveis preditoras em X\n",
    "X = np.array(dados)"
   ]
  },
  {
   "cell_type": "code",
   "execution_count": 35,
   "metadata": {},
   "outputs": [
    {
     "data": {
      "text/plain": [
       "array([[1.799e+01, 1.038e+01, 1.228e+02, ..., 2.654e-01, 4.601e-01,\n",
       "        1.189e-01],\n",
       "       [2.057e+01, 1.777e+01, 1.329e+02, ..., 1.860e-01, 2.750e-01,\n",
       "        8.902e-02],\n",
       "       [1.969e+01, 2.125e+01, 1.300e+02, ..., 2.430e-01, 3.613e-01,\n",
       "        8.758e-02],\n",
       "       ...,\n",
       "       [1.660e+01, 2.808e+01, 1.083e+02, ..., 1.418e-01, 2.218e-01,\n",
       "        7.820e-02],\n",
       "       [2.060e+01, 2.933e+01, 1.401e+02, ..., 2.650e-01, 4.087e-01,\n",
       "        1.240e-01],\n",
       "       [7.760e+00, 2.454e+01, 4.792e+01, ..., 0.000e+00, 2.871e-01,\n",
       "        7.039e-02]])"
      ]
     },
     "execution_count": 35,
     "metadata": {},
     "output_type": "execute_result"
    }
   ],
   "source": [
    "# Visualiza os dados de entrada\n",
    "X"
   ]
  },
  {
   "cell_type": "code",
   "execution_count": 36,
   "metadata": {},
   "outputs": [],
   "source": [
    "# Dividimos os dados de entrada e saída em treino e teste\n",
    "X_treino, X_teste, y_treino, y_teste = train_test_split(X, target, test_size = 0.15, shuffle = True)"
   ]
  },
  {
   "cell_type": "code",
   "execution_count": 37,
   "metadata": {},
   "outputs": [
    {
     "name": "stdout",
     "output_type": "stream",
     "text": [
      "(483, 30)\n",
      "(483,)\n"
     ]
    }
   ],
   "source": [
    "# Shape dos dados de treino\n",
    "print(X_treino.shape)\n",
    "print(y_treino.shape)"
   ]
  },
  {
   "cell_type": "code",
   "execution_count": 38,
   "metadata": {},
   "outputs": [
    {
     "name": "stdout",
     "output_type": "stream",
     "text": [
      "(86, 30)\n",
      "(86,)\n"
     ]
    }
   ],
   "source": [
    "# Shape dos dados de teste\n",
    "print(X_teste.shape)\n",
    "print(y_teste.shape)"
   ]
  },
  {
   "cell_type": "code",
   "execution_count": 39,
   "metadata": {},
   "outputs": [],
   "source": [
    "# Ajusta o shape dos dados de entrada\n",
    "X_treino = X_treino.T\n",
    "X_teste = X_teste.T"
   ]
  },
  {
   "cell_type": "code",
   "execution_count": 40,
   "metadata": {},
   "outputs": [
    {
     "name": "stdout",
     "output_type": "stream",
     "text": [
      "(30, 483)\n",
      "(30, 86)\n"
     ]
    }
   ],
   "source": [
    "print(X_treino.shape)\n",
    "print(X_teste.shape)"
   ]
  },
  {
   "cell_type": "code",
   "execution_count": 42,
   "metadata": {},
   "outputs": [
    {
     "data": {
      "text/plain": [
       "array([[1.348e+01, 1.441e+01, 1.008e+01, ..., 9.667e+00, 1.546e+01,\n",
       "        9.668e+00],\n",
       "       [2.082e+01, 1.973e+01, 1.511e+01, ..., 1.849e+01, 2.395e+01,\n",
       "        1.810e+01],\n",
       "       [8.840e+01, 9.603e+01, 6.376e+01, ..., 6.149e+01, 1.038e+02,\n",
       "        6.106e+01],\n",
       "       ...,\n",
       "       [2.258e-01, 1.021e-01, 1.042e-02, ..., 6.560e-02, 2.163e-01,\n",
       "        2.500e-02],\n",
       "       [2.807e-01, 2.272e-01, 2.933e-01, ..., 3.174e-01, 3.013e-01,\n",
       "        3.057e-01],\n",
       "       [1.071e-01, 8.799e-02, 7.697e-02, ..., 8.524e-02, 1.067e-01,\n",
       "        7.875e-02]])"
      ]
     },
     "execution_count": 42,
     "metadata": {},
     "output_type": "execute_result"
    }
   ],
   "source": [
    "X_treino"
   ]
  },
  {
   "cell_type": "code",
   "execution_count": 43,
   "metadata": {},
   "outputs": [],
   "source": [
    "# Precisamos ajustar também os dados de saída\n",
    "y_treino = y_treino.reshape(1, len(y_treino))\n",
    "y_teste = y_teste.reshape(1, len(y_teste))"
   ]
  },
  {
   "cell_type": "code",
   "execution_count": 44,
   "metadata": {},
   "outputs": [
    {
     "name": "stdout",
     "output_type": "stream",
     "text": [
      "(1, 483)\n",
      "(1, 86)\n"
     ]
    }
   ],
   "source": [
    "print(y_treino.shape)\n",
    "print(y_teste.shape)"
   ]
  },
  {
   "cell_type": "code",
   "execution_count": 45,
   "metadata": {},
   "outputs": [],
   "source": [
    "# Variável com as dimensões de entrada para oo número de neurônios \n",
    "dims_camada_entrada = [X_treino.shape[0], 50, 20, 5, 1]"
   ]
  },
  {
   "cell_type": "code",
   "execution_count": 46,
   "metadata": {},
   "outputs": [
    {
     "data": {
      "text/plain": [
       "[30, 50, 20, 5, 1]"
      ]
     },
     "execution_count": 46,
     "metadata": {},
     "output_type": "execute_result"
    }
   ],
   "source": [
    "dims_camada_entrada"
   ]
  },
  {
   "cell_type": "code",
   "execution_count": 47,
   "metadata": {},
   "outputs": [
    {
     "name": "stdout",
     "output_type": "stream",
     "text": [
      "\n",
      "Iniciando o Treinamento.\n",
      "\n",
      "Custo Após 0 iterações é 0.6931712641090011\n",
      "Custo Após 10 iterações é 0.6920903232093767\n",
      "Custo Após 20 iterações é 0.6910491306047608\n",
      "Custo Após 30 iterações é 0.690046209074601\n",
      "Custo Após 40 iterações é 0.6890801385770761\n",
      "Custo Após 50 iterações é 0.6881495579667648\n",
      "Custo Após 60 iterações é 0.6872531618084966\n",
      "Custo Após 70 iterações é 0.686389680091441\n",
      "Custo Após 80 iterações é 0.6855578974773596\n",
      "Custo Após 90 iterações é 0.6847566342073587\n",
      "Custo Após 100 iterações é 0.6839847618955676\n",
      "Custo Após 110 iterações é 0.6832411972583057\n",
      "Custo Após 120 iterações é 0.6825248837878065\n",
      "Custo Após 130 iterações é 0.681834813278932\n",
      "Custo Após 140 iterações é 0.6811700197553325\n",
      "Custo Após 150 iterações é 0.6805295603411221\n",
      "Custo Após 160 iterações é 0.6799124905341978\n",
      "Custo Após 170 iterações é 0.6793179058462602\n",
      "Custo Após 180 iterações é 0.6787451174940926\n",
      "Custo Após 190 iterações é 0.6781933211774536\n",
      "Custo Após 200 iterações é 0.6776616743922584\n",
      "Custo Após 210 iterações é 0.677149412192479\n",
      "Custo Após 220 iterações é 0.6766558034720636\n",
      "Custo Após 230 iterações é 0.6761801484492707\n",
      "Custo Após 240 iterações é 0.6757217791357168\n",
      "Custo Após 250 iterações é 0.6752800447305302\n",
      "Custo Após 260 iterações é 0.6748543196714797\n",
      "Custo Após 270 iterações é 0.6744440023391736\n",
      "Custo Após 280 iterações é 0.6740485123886656\n",
      "Custo Após 290 iterações é 0.6736672898693006\n",
      "Custo Após 300 iterações é 0.6732997945024026\n",
      "Custo Após 310 iterações é 0.6729455049155968\n",
      "Custo Após 320 iterações é 0.6726039173268061\n",
      "Custo Após 330 iterações é 0.6722745451826035\n",
      "Custo Após 340 iterações é 0.671956917601737\n",
      "Custo Após 350 iterações é 0.6716505796614377\n",
      "Custo Após 360 iterações é 0.6713550893609002\n",
      "Custo Após 370 iterações é 0.6710700199066656\n",
      "Custo Após 380 iterações é 0.6707949578381593\n",
      "Custo Após 390 iterações é 0.6705295001966058\n",
      "Custo Após 400 iterações é 0.6702732738716625\n",
      "Custo Após 410 iterações é 0.6700260459926303\n",
      "Custo Após 420 iterações é 0.6697875846156401\n",
      "Custo Após 430 iterações é 0.6695575080787056\n",
      "Custo Após 440 iterações é 0.6693353972356473\n",
      "Custo Após 450 iterações é 0.669120805136806\n",
      "Custo Após 460 iterações é 0.668913368271273\n",
      "Custo Após 470 iterações é 0.6687127541908119\n",
      "Custo Após 480 iterações é 0.6685186298908751\n",
      "Custo Após 490 iterações é 0.6683306677837393\n",
      "Custo Após 500 iterações é 0.6681485364898647\n",
      "Custo Após 510 iterações é 0.6679718954307673\n",
      "Custo Após 520 iterações é 0.6678004139412024\n",
      "Custo Após 530 iterações é 0.6676337356631176\n",
      "Custo Após 540 iterações é 0.6674714865164207\n",
      "Custo Após 550 iterações é 0.6673133495763052\n",
      "Custo Após 560 iterações é 0.6671590452861748\n",
      "Custo Após 570 iterações é 0.6670081322162094\n",
      "Custo Após 580 iterações é 0.6668604097934434\n",
      "Custo Após 590 iterações é 0.6667156598390054\n",
      "Custo Após 600 iterações é 0.6665733395790934\n",
      "Custo Após 610 iterações é 0.6664327053913003\n",
      "Custo Após 620 iterações é 0.6662929886108042\n",
      "Custo Após 630 iterações é 0.6661533382884628\n",
      "Custo Após 640 iterações é 0.666012815357594\n",
      "Custo Após 650 iterações é 0.6658703084735769\n",
      "Custo Após 660 iterações é 0.6657244206043783\n",
      "Custo Após 670 iterações é 0.6655734068251155\n",
      "Custo Após 680 iterações é 0.6654150975794086\n",
      "Custo Após 690 iterações é 0.6652466201778731\n",
      "Custo Após 700 iterações é 0.665064261694934\n",
      "Custo Após 710 iterações é 0.664863026735399\n",
      "Custo Após 720 iterações é 0.6646362098348276\n",
      "Custo Após 730 iterações é 0.6643742038373098\n",
      "Custo Após 740 iterações é 0.6640637187727285\n",
      "Custo Após 750 iterações é 0.6636865060799484\n",
      "Custo Após 760 iterações é 0.6632153371635389\n",
      "Custo Após 770 iterações é 0.6626024767531511\n",
      "Custo Após 780 iterações é 0.6617736315275211\n",
      "Custo Após 790 iterações é 0.6606029629493427\n",
      "Custo Após 800 iterações é 0.6588670779828242\n",
      "Custo Após 810 iterações é 0.656150781672747\n",
      "Custo Após 820 iterações é 0.651662072439692\n",
      "Custo Após 830 iterações é 0.643978196865273\n",
      "Custo Após 840 iterações é 0.6314867954324398\n",
      "Custo Após 850 iterações é 0.6166212062027298\n",
      "Custo Após 860 iterações é 0.6076625969754402\n",
      "Custo Após 870 iterações é 0.6039984883912142\n",
      "Custo Após 880 iterações é 0.6013572077975943\n",
      "Custo Após 890 iterações é 0.5987499859421763\n",
      "Custo Após 900 iterações é 0.5961332374715957\n",
      "Custo Após 910 iterações é 0.5935284600387735\n",
      "Custo Após 920 iterações é 0.5908995339571574\n",
      "Custo Após 930 iterações é 0.5882401191557802\n",
      "Custo Após 940 iterações é 0.5855434659292162\n",
      "Custo Após 950 iterações é 0.5828015067767645\n",
      "Custo Após 960 iterações é 0.5800041972416086\n",
      "Custo Após 970 iterações é 0.5771390221072218\n",
      "Custo Após 980 iterações é 0.5741903867694554\n",
      "Custo Após 990 iterações é 0.5711385162949377\n",
      "Custo Após 1000 iterações é 0.5679581940413422\n",
      "Custo Após 1010 iterações é 0.564616354505396\n",
      "Custo Após 1020 iterações é 0.5610700138499195\n",
      "Custo Após 1030 iterações é 0.5572615825564788\n",
      "Custo Após 1040 iterações é 0.5531113609096412\n",
      "Custo Após 1050 iterações é 0.5485085193012488\n",
      "Custo Após 1060 iterações é 0.5432965785578819\n",
      "Custo Após 1070 iterações é 0.5372546838910492\n",
      "Custo Após 1080 iterações é 0.5300762283131887\n",
      "Custo Após 1090 iterações é 0.5213715970555179\n",
      "Custo Após 1100 iterações é 0.5106257044231188\n",
      "Custo Após 1110 iterações é 0.49719722761907387\n",
      "Custo Após 1120 iterações é 0.4803963556168972\n",
      "Custo Após 1130 iterações é 0.4605447278001843\n",
      "Custo Após 1140 iterações é 0.44024251141133003\n",
      "Custo Após 1150 iterações é 0.43380320071209333\n",
      "Custo Após 1160 iterações é 0.47786630198286245\n",
      "Custo Após 1170 iterações é 0.4570828656723837\n",
      "Custo Após 1180 iterações é 0.4519037893718997\n",
      "Custo Após 1190 iterações é 0.44677330102916796\n",
      "Custo Após 1200 iterações é 0.4417743777793439\n",
      "Custo Após 1210 iterações é 0.4383876815699682\n",
      "Custo Após 1220 iterações é 0.4341346030454167\n",
      "Custo Após 1230 iterações é 0.43243140781044925\n",
      "Custo Após 1240 iterações é 0.42657420723959255\n",
      "Custo Após 1250 iterações é 0.421931130336685\n",
      "Custo Após 1260 iterações é 0.4151540996397918\n",
      "Custo Após 1270 iterações é 0.41111035906220295\n",
      "Custo Após 1280 iterações é 0.40598820806238833\n",
      "Custo Após 1290 iterações é 0.3980298031549901\n",
      "Custo Após 1300 iterações é 0.3912935685359519\n",
      "Custo Após 1310 iterações é 0.3905555576755751\n",
      "Custo Após 1320 iterações é 0.38418489446647097\n",
      "Custo Após 1330 iterações é 0.37880061334664167\n",
      "Custo Após 1340 iterações é 0.37439825421881273\n",
      "Custo Após 1350 iterações é 0.3735147080370915\n",
      "Custo Após 1360 iterações é 0.3687908478081879\n",
      "Custo Após 1370 iterações é 0.3678480642079492\n",
      "Custo Após 1380 iterações é 0.3658958950442475\n",
      "Custo Após 1390 iterações é 0.3638326837687979\n",
      "Custo Após 1400 iterações é 0.361912638874507\n",
      "Custo Após 1410 iterações é 0.3598353667706025\n",
      "Custo Após 1420 iterações é 0.3557334832758887\n",
      "Custo Após 1430 iterações é 0.3496696468934411\n",
      "Custo Após 1440 iterações é 0.34886110457800695\n",
      "Custo Após 1450 iterações é 0.3479368041179934\n",
      "Custo Após 1460 iterações é 0.34698571257276256\n",
      "Custo Após 1470 iterações é 0.3455181961780362\n",
      "Custo Após 1480 iterações é 0.3443642439798199\n",
      "Custo Após 1490 iterações é 0.3420207007629267\n",
      "Custo Após 1500 iterações é 0.34043569523778205\n",
      "Custo Após 1510 iterações é 0.33770249929667506\n",
      "Custo Após 1520 iterações é 0.3373708001977271\n",
      "Custo Após 1530 iterações é 0.3361644989783262\n",
      "Custo Após 1540 iterações é 0.33556017083575707\n",
      "Custo Após 1550 iterações é 0.33374906329423293\n",
      "Custo Após 1560 iterações é 0.32972863574471406\n",
      "Custo Após 1570 iterações é 0.3312157552969414\n",
      "Custo Após 1580 iterações é 0.328934451536302\n",
      "Custo Após 1590 iterações é 0.3266709702314514\n",
      "Custo Após 1600 iterações é 0.32701664214188025\n",
      "Custo Após 1610 iterações é 0.3251589932588658\n",
      "Custo Após 1620 iterações é 0.3203736476243775\n",
      "Custo Após 1630 iterações é 0.32300240702548494\n",
      "Custo Após 1640 iterações é 0.32454642087056684\n",
      "Custo Após 1650 iterações é 0.32218352397959676\n",
      "Custo Após 1660 iterações é 0.32134692247535573\n",
      "Custo Após 1670 iterações é 0.3196677971161674\n",
      "Custo Após 1680 iterações é 0.31580848556066554\n",
      "Custo Após 1690 iterações é 0.31657957506594936\n",
      "Custo Após 1700 iterações é 0.3069076948891464\n",
      "Custo Após 1710 iterações é 0.29585644319749516\n",
      "Custo Após 1720 iterações é 0.30100964148630593\n",
      "Custo Após 1730 iterações é 0.2954902577755426\n",
      "Custo Após 1740 iterações é 0.29549421858349784\n",
      "Custo Após 1750 iterações é 0.29966791436333323\n",
      "Custo Após 1760 iterações é 0.3128445579150526\n"
     ]
    },
    {
     "name": "stdout",
     "output_type": "stream",
     "text": [
      "Custo Após 1770 iterações é 0.3084395375561643\n",
      "Custo Após 1780 iterações é 0.30394176488641983\n",
      "Custo Após 1790 iterações é 0.30519794700589115\n",
      "Custo Após 1800 iterações é 0.30615184184127897\n",
      "Custo Após 1810 iterações é 0.30334284622636803\n",
      "Custo Após 1820 iterações é 0.2984511267185822\n",
      "Custo Após 1830 iterações é 0.28594941143446384\n",
      "Custo Após 1840 iterações é 0.2849766005457722\n",
      "Custo Após 1850 iterações é 0.28788913250323944\n",
      "Custo Após 1860 iterações é 0.2872314423002154\n",
      "Custo Após 1870 iterações é 0.2851955562507452\n",
      "Custo Após 1880 iterações é 0.2852057241561979\n",
      "Custo Após 1890 iterações é 0.28407455905425677\n",
      "Custo Após 1900 iterações é 0.2839687004174193\n",
      "Custo Após 1910 iterações é 0.28306587181117926\n",
      "Custo Após 1920 iterações é 0.2829978532207098\n",
      "Custo Após 1930 iterações é 0.2834617426800114\n",
      "Custo Após 1940 iterações é 0.28570791972128234\n",
      "Custo Após 1950 iterações é 0.2991738949139782\n",
      "Custo Após 1960 iterações é 0.30280074785489275\n",
      "Custo Após 1970 iterações é 0.28813509048229113\n",
      "Custo Após 1980 iterações é 0.27493633535899237\n",
      "Custo Após 1990 iterações é 0.2741094268735805\n",
      "Custo Após 2000 iterações é 0.27316418375377816\n",
      "Custo Após 2010 iterações é 0.2742735099248078\n",
      "Custo Após 2020 iterações é 0.27451777389068294\n",
      "Custo Após 2030 iterações é 0.2734301397686715\n",
      "Custo Após 2040 iterações é 0.2741628182337993\n",
      "Custo Após 2050 iterações é 0.27448183597764764\n",
      "Custo Após 2060 iterações é 0.2722323728984734\n",
      "Custo Após 2070 iterações é 0.2725832086686818\n",
      "Custo Após 2080 iterações é 0.27128377174018103\n",
      "Custo Após 2090 iterações é 0.26993899392628495\n",
      "Custo Após 2100 iterações é 0.26868794993318906\n",
      "Custo Após 2110 iterações é 0.26934891879702383\n",
      "Custo Após 2120 iterações é 0.2693489483651945\n",
      "Custo Após 2130 iterações é 0.2686763452157202\n",
      "Custo Após 2140 iterações é 0.27048634184392595\n",
      "Custo Após 2150 iterações é 0.26832649337005005\n",
      "Custo Após 2160 iterações é 0.267231755795862\n",
      "Custo Após 2170 iterações é 0.26485402426365273\n",
      "Custo Após 2180 iterações é 0.26463266757475085\n",
      "Custo Após 2190 iterações é 0.2698364522251855\n",
      "Custo Após 2200 iterações é 0.28474818205272556\n",
      "Custo Após 2210 iterações é 0.28739444580206963\n",
      "Custo Após 2220 iterações é 0.2751631281909929\n",
      "Custo Após 2230 iterações é 0.2721489955330483\n",
      "Custo Após 2240 iterações é 0.25902331563308933\n",
      "Custo Após 2250 iterações é 0.2597996319367448\n",
      "Custo Após 2260 iterações é 0.25792785999100076\n",
      "Custo Após 2270 iterações é 0.26060606170618905\n",
      "Custo Após 2280 iterações é 0.25777207965226684\n",
      "Custo Após 2290 iterações é 0.25898173950596515\n",
      "Custo Após 2300 iterações é 0.25967983387793614\n",
      "Custo Após 2310 iterações é 0.26027149884822204\n",
      "Custo Após 2320 iterações é 0.256204658618477\n",
      "Custo Após 2330 iterações é 0.25825304247198794\n",
      "Custo Após 2340 iterações é 0.2584517165910906\n",
      "Custo Após 2350 iterações é 0.2568549568074317\n",
      "Custo Após 2360 iterações é 0.25873971582430044\n",
      "Custo Após 2370 iterações é 0.2550868952213675\n",
      "Custo Após 2380 iterações é 0.2572869284488486\n",
      "Custo Após 2390 iterações é 0.25572510581464764\n",
      "Custo Após 2400 iterações é 0.2569419424825269\n",
      "Custo Após 2410 iterações é 0.25581346163408725\n",
      "Custo Após 2420 iterações é 0.255524260323759\n",
      "Custo Após 2430 iterações é 0.25375583585001726\n",
      "Custo Após 2440 iterações é 0.25704774558945526\n",
      "Custo Após 2450 iterações é 0.2643920796303191\n",
      "Custo Após 2460 iterações é 0.26372583665854166\n",
      "Custo Após 2470 iterações é 0.2615874220550691\n",
      "Custo Após 2480 iterações é 0.25493480951352104\n",
      "Custo Após 2490 iterações é 0.2514789208261965\n",
      "Custo Após 2500 iterações é 0.2526147249601541\n",
      "Custo Após 2510 iterações é 0.2540562343446213\n",
      "Custo Após 2520 iterações é 0.2519276772769653\n",
      "Custo Após 2530 iterações é 0.25245335136433394\n",
      "Custo Após 2540 iterações é 0.2506877612186482\n",
      "Custo Após 2550 iterações é 0.2527082535704275\n",
      "Custo Após 2560 iterações é 0.25184724804682296\n",
      "Custo Após 2570 iterações é 0.2503631229122717\n",
      "Custo Após 2580 iterações é 0.25069470082623063\n",
      "Custo Após 2590 iterações é 0.25051115818870434\n",
      "Custo Após 2600 iterações é 0.2485115842360804\n",
      "Custo Após 2610 iterações é 0.2515107544548594\n",
      "Custo Após 2620 iterações é 0.2489666636317206\n",
      "Custo Após 2630 iterações é 0.25086312569469243\n",
      "Custo Após 2640 iterações é 0.24986309552404717\n",
      "Custo Após 2650 iterações é 0.24639226679455933\n",
      "Custo Após 2660 iterações é 0.25027542975286776\n",
      "Custo Após 2670 iterações é 0.2512274214557688\n",
      "Custo Após 2680 iterações é 0.24397221807020544\n",
      "Custo Após 2690 iterações é 0.249307876418085\n",
      "Custo Após 2700 iterações é 0.25399776475626\n",
      "Custo Após 2710 iterações é 0.2539132121163561\n",
      "Custo Após 2720 iterações é 0.24911867996280035\n",
      "Custo Após 2730 iterações é 0.24033481725630504\n",
      "Custo Após 2740 iterações é 0.24195136903265937\n",
      "Custo Após 2750 iterações é 0.24889805567947937\n",
      "Custo Após 2760 iterações é 0.2452432245440359\n",
      "Custo Após 2770 iterações é 0.23955112124426642\n",
      "Custo Após 2780 iterações é 0.23693609725778328\n",
      "Custo Após 2790 iterações é 0.24049672772098282\n",
      "Custo Após 2800 iterações é 0.2522505474541841\n",
      "Custo Após 2810 iterações é 0.2504335148047535\n",
      "Custo Após 2820 iterações é 0.24629367788098946\n",
      "Custo Após 2830 iterações é 0.23797930612470602\n",
      "Custo Após 2840 iterações é 0.2355450092768611\n",
      "Custo Após 2850 iterações é 0.24028180132615565\n",
      "Custo Após 2860 iterações é 0.24776400508451268\n",
      "Custo Após 2870 iterações é 0.24627511093153756\n",
      "Custo Após 2880 iterações é 0.24034069380279013\n",
      "Custo Após 2890 iterações é 0.23456441868029101\n",
      "Custo Após 2900 iterações é 0.2400997351969589\n",
      "Custo Após 2910 iterações é 0.23946379799088408\n",
      "Custo Após 2920 iterações é 0.23539208095044134\n",
      "Custo Após 2930 iterações é 0.23191080309378354\n",
      "Custo Após 2940 iterações é 0.230046328638818\n",
      "Custo Após 2950 iterações é 0.23146526372956416\n",
      "Custo Após 2960 iterações é 0.25313056284574575\n",
      "Custo Após 2970 iterações é 0.24678083319611935\n",
      "Custo Após 2980 iterações é 0.24408281052814557\n",
      "Custo Após 2990 iterações é 0.24051663439189652\n",
      "\n",
      "Treinamento Concluído.\n",
      "\n"
     ]
    }
   ],
   "source": [
    "# Treinamento do modelo\n",
    "\n",
    "print(\"\\nIniciando o Treinamento.\\n\")\n",
    "\n",
    "parametros, custo = modeloNN(X = X_treino, \n",
    "                             Y = y_treino, \n",
    "                             dims_camada_entrada = dims_camada_entrada, \n",
    "                             num_iterations = 3000, \n",
    "                             learning_rate = 0.0075)\n",
    "\n",
    "print(\"\\nTreinamento Concluído.\\n\")"
   ]
  },
  {
   "cell_type": "code",
   "execution_count": 66,
   "metadata": {},
   "outputs": [
    {
     "data": {
      "text/plain": [
       "{'W1': array([[ 6.27284258e-03,  1.25209617e-02, -1.04666519e-03, ...,\n",
       "         -1.64245522e-04,  5.23057675e-04, -1.49381194e-03],\n",
       "        [-1.26021721e-02,  1.20199952e-02,  7.69668452e-04, ...,\n",
       "          1.18041608e-02,  1.91312196e-02, -1.08280748e-02],\n",
       "        [ 4.07770508e-03,  1.24854019e-02, -3.69292297e-02, ...,\n",
       "         -5.16906700e-05, -1.19283399e-03, -2.07711566e-03],\n",
       "        ...,\n",
       "        [-1.83443236e-02, -1.13429295e-03,  1.02489906e-02, ...,\n",
       "          8.97367808e-03,  3.45379641e-03, -3.68197683e-03],\n",
       "        [-5.01355033e-03,  5.35610250e-03, -3.70312890e-02, ...,\n",
       "          7.31375420e-04,  2.15770275e-03,  7.90430145e-03],\n",
       "        [ 3.20146034e-05,  1.16106531e-02, -2.40204719e-02, ...,\n",
       "         -2.72206937e-03,  1.78494544e-02, -9.60297262e-05]]),\n",
       " 'b1': array([[ 0.00000000e+00],\n",
       "        [ 0.00000000e+00],\n",
       "        [-8.98065483e-04],\n",
       "        [ 0.00000000e+00],\n",
       "        [ 0.00000000e+00],\n",
       "        [ 0.00000000e+00],\n",
       "        [-1.70929187e-03],\n",
       "        [-5.18050572e-04],\n",
       "        [-9.75563808e-04],\n",
       "        [-2.23663031e-03],\n",
       "        [-3.01115814e-04],\n",
       "        [ 0.00000000e+00],\n",
       "        [ 0.00000000e+00],\n",
       "        [ 1.01157130e-04],\n",
       "        [-7.08979564e-04],\n",
       "        [ 0.00000000e+00],\n",
       "        [ 1.56074678e-04],\n",
       "        [ 2.06880210e-03],\n",
       "        [ 1.24085926e-03],\n",
       "        [-2.91161655e-03],\n",
       "        [ 3.22108091e-03],\n",
       "        [-3.68628115e-04],\n",
       "        [ 0.00000000e+00],\n",
       "        [-4.86739249e-03],\n",
       "        [ 0.00000000e+00],\n",
       "        [ 0.00000000e+00],\n",
       "        [-2.19429422e-03],\n",
       "        [ 0.00000000e+00],\n",
       "        [-1.77510096e-03],\n",
       "        [-1.32703808e-03],\n",
       "        [-3.33530832e-03],\n",
       "        [-2.84783295e-03],\n",
       "        [ 0.00000000e+00],\n",
       "        [-3.65673511e-03],\n",
       "        [ 0.00000000e+00],\n",
       "        [-3.78061067e-03],\n",
       "        [ 4.06290029e-04],\n",
       "        [-3.09210643e-03],\n",
       "        [-3.81961677e-03],\n",
       "        [ 0.00000000e+00],\n",
       "        [ 4.06705697e-04],\n",
       "        [ 0.00000000e+00],\n",
       "        [-5.55297260e-04],\n",
       "        [-1.72887759e-03],\n",
       "        [-4.86808683e-07],\n",
       "        [-4.64800226e-03],\n",
       "        [ 2.49720867e-03],\n",
       "        [ 0.00000000e+00],\n",
       "        [-1.04298657e-03],\n",
       "        [-4.55513058e-04]]),\n",
       " 'W2': array([[-1.22320569e-03, -3.59001946e-03, -1.12875976e-02,\n",
       "          4.64195934e-03,  2.04159349e-02, -2.96881469e-02,\n",
       "          5.73660053e-03,  7.90502198e-03,  1.24453517e-02,\n",
       "          1.02904334e-02, -1.20330200e-02,  1.34694532e-02,\n",
       "          1.32837427e-03, -2.67016437e-04, -4.06832470e-05,\n",
       "          8.27340677e-03, -5.06892906e-03,  8.14918034e-03,\n",
       "         -1.27167813e-02,  3.46837389e-04, -1.19945590e-02,\n",
       "         -5.71226223e-03, -3.07346941e-04, -2.46528054e-03,\n",
       "         -1.04524985e-02, -2.80703761e-03,  6.48152676e-03,\n",
       "         -5.86024332e-03,  6.07233253e-03,  3.81988079e-03,\n",
       "         -3.38241398e-03, -1.64252935e-03, -1.13971773e-02,\n",
       "          3.63786745e-03,  1.26582092e-03,  7.73812937e-03,\n",
       "         -8.18936149e-03, -8.58221461e-04, -1.39965446e-02,\n",
       "          4.67519849e-03,  1.20414512e-02, -7.27509280e-03,\n",
       "         -6.98517106e-03, -1.29336038e-05,  5.67302910e-03,\n",
       "         -3.60587619e-03, -1.02775549e-03,  8.01755629e-03,\n",
       "          4.34620056e-03, -5.96548824e-04],\n",
       "        [-1.19582731e-02, -1.06832687e-02,  1.07669536e-02,\n",
       "          6.28939829e-03,  1.25193921e-04,  9.48958349e-03,\n",
       "          3.06872782e-02,  5.81123811e-03,  3.71184298e-02,\n",
       "          4.16339063e-03,  1.43980755e-03,  6.82494748e-03,\n",
       "          5.57046079e-03, -1.62523628e-02,  1.86645162e-04,\n",
       "         -5.49804255e-04,  1.50484200e-03, -3.31621912e-02,\n",
       "         -5.56708075e-03,  3.99105478e-02, -4.97157074e-02,\n",
       "          2.32871956e-02, -4.05031675e-03,  8.32693191e-02,\n",
       "         -2.33769652e-03,  9.69743336e-03,  3.57354680e-02,\n",
       "          6.04869449e-03,  8.03457910e-02,  2.97303340e-02,\n",
       "          7.27225168e-02,  5.14132408e-02, -9.09263695e-03,\n",
       "          4.60944435e-02,  1.21335970e-02,  5.77074760e-02,\n",
       "         -1.14824800e-03,  4.08006284e-02,  6.99527977e-02,\n",
       "         -4.31588464e-03, -5.12158845e-03,  4.76850746e-03,\n",
       "         -2.00641356e-04,  8.95894948e-03, -2.42216518e-03,\n",
       "          6.36009625e-02, -2.98981313e-02, -5.49490078e-03,\n",
       "          3.24982072e-02,  1.17911199e-02],\n",
       "        [ 5.63076839e-03, -2.93033993e-03, -3.98225258e-03,\n",
       "          2.29822563e-03, -8.28196235e-03, -1.61170336e-02,\n",
       "          3.57069017e-03,  1.08535747e-02,  1.82432639e-02,\n",
       "          9.09357728e-03,  8.12625020e-03, -1.39326399e-02,\n",
       "         -2.53161817e-03, -2.76836672e-02, -1.92226275e-03,\n",
       "          1.59687470e-02,  4.68260359e-04,  7.46814733e-03,\n",
       "          1.64707860e-02,  3.89541483e-03,  3.50230320e-02,\n",
       "         -4.71587936e-03, -6.01569431e-04,  7.28271998e-03,\n",
       "          1.46759891e-02,  9.79569122e-03, -1.48152071e-02,\n",
       "          2.49294478e-03,  1.19120470e-02,  3.59579921e-03,\n",
       "          5.31762784e-03, -1.13892150e-02, -4.57465919e-03,\n",
       "          4.10927736e-03, -5.99044897e-03,  1.43757614e-02,\n",
       "          1.73122611e-02, -9.49963590e-03, -8.73743304e-03,\n",
       "          4.82237288e-03, -2.85825597e-03,  1.52009737e-02,\n",
       "         -6.33259041e-03, -1.78003476e-02,  7.77335741e-03,\n",
       "         -5.08565362e-03,  1.78357228e-02,  5.67078503e-03,\n",
       "         -2.95112549e-03, -6.97313784e-03],\n",
       "        [ 6.16200899e-03, -3.40349077e-03, -8.43596319e-03,\n",
       "         -6.09101686e-03, -7.75308963e-04, -1.58102884e-02,\n",
       "          1.26161368e-03,  2.47262197e-02,  1.58573613e-02,\n",
       "         -9.47694803e-03,  5.27724184e-03, -2.30837821e-02,\n",
       "          2.09286231e-02, -1.34266918e-02, -1.26853350e-02,\n",
       "          2.01462944e-03, -6.67256707e-03,  5.53405758e-03,\n",
       "          2.08600325e-03, -2.16295422e-02,  1.40714692e-02,\n",
       "         -9.86016256e-03, -1.20204702e-02, -2.43127186e-03,\n",
       "         -4.37386841e-03, -4.23495014e-03,  2.57711302e-03,\n",
       "         -2.92731599e-03,  3.43480469e-04,  9.97641475e-03,\n",
       "          1.29788287e-02,  1.55040016e-02, -4.35001814e-03,\n",
       "          1.07570965e-02, -5.99811800e-03, -8.54564425e-03,\n",
       "          1.56248603e-02, -1.58162521e-02, -1.54035956e-03,\n",
       "         -7.04152709e-04, -8.78656243e-03, -2.63961736e-02,\n",
       "          1.13249415e-03, -8.68813520e-03,  1.60901347e-02,\n",
       "          1.23147285e-03,  1.68279387e-02, -6.68498892e-03,\n",
       "         -1.88438070e-03,  1.00263562e-02],\n",
       "        [-2.11774409e-03, -1.53149479e-03,  6.29717828e-03,\n",
       "          2.61880695e-03,  9.67282424e-03, -4.25628331e-04,\n",
       "          4.54327562e-03, -2.13488013e-02, -7.34535231e-03,\n",
       "          6.16344836e-03, -2.01231391e-04,  8.40328113e-03,\n",
       "          1.02909853e-02,  1.50650034e-03, -2.12179701e-03,\n",
       "         -1.03698784e-02, -2.54565860e-02,  1.50018905e-02,\n",
       "         -2.13396689e-02,  7.15931923e-03, -1.43866262e-03,\n",
       "         -3.93382508e-03,  3.36097345e-03,  1.41452026e-02,\n",
       "          7.21438723e-03,  1.87599542e-02, -3.89308809e-03,\n",
       "         -1.54467376e-02,  7.41331893e-03, -9.17269499e-03,\n",
       "         -1.91119715e-03, -1.49128222e-02, -7.97501487e-03,\n",
       "         -9.54684048e-03,  1.80408361e-02,  9.81822980e-03,\n",
       "          1.01212232e-03, -9.20167652e-03, -4.01317384e-03,\n",
       "          1.75110467e-02, -5.68329753e-03, -3.44968434e-03,\n",
       "         -3.27764569e-04, -4.97833814e-03,  1.03128492e-02,\n",
       "         -1.10027223e-02,  2.74454963e-03, -2.77014570e-02,\n",
       "          9.51484645e-03, -1.27590005e-02],\n",
       "        [ 6.92300423e-04, -9.22182603e-03,  7.81573548e-03,\n",
       "         -6.96787690e-03, -2.58174584e-03,  6.24502143e-03,\n",
       "         -6.33797905e-03, -2.55926345e-03,  5.56665853e-03,\n",
       "         -1.91227264e-02, -1.72500569e-02,  1.11043135e-03,\n",
       "          4.91399906e-03,  8.49626149e-03,  1.18853681e-02,\n",
       "          4.43302876e-04,  3.71256505e-03,  1.20992442e-02,\n",
       "         -3.23803623e-03,  8.13913091e-03,  6.91760976e-03,\n",
       "         -2.06455260e-02,  1.03931528e-02,  3.57164789e-03,\n",
       "         -1.16543498e-02, -7.52411220e-03, -1.15121401e-02,\n",
       "          5.41755313e-03,  8.81840055e-03, -7.18566777e-05,\n",
       "         -4.07269440e-03,  2.88662132e-03,  1.34786695e-03,\n",
       "          1.11031199e-02, -1.15752487e-02,  1.88130462e-02,\n",
       "         -3.30851905e-03, -3.63957967e-03, -1.23402397e-02,\n",
       "          1.89035597e-02,  6.07137815e-03,  1.61488657e-03,\n",
       "         -4.86914172e-03,  3.48781720e-03, -3.11459447e-03,\n",
       "         -1.81859113e-03,  3.68446858e-04,  6.72126134e-03,\n",
       "         -8.52289711e-03,  9.63640090e-04],\n",
       "        [ 1.74849310e-02, -1.44727004e-02,  3.16505080e-02,\n",
       "          5.46604879e-03,  3.82024062e-03,  9.39567107e-04,\n",
       "          1.56887398e-02,  1.85379064e-02,  1.16195919e-02,\n",
       "          1.77925210e-02,  1.44466109e-02, -9.51953792e-03,\n",
       "         -1.00423817e-02,  6.16953502e-03,  1.06755381e-02,\n",
       "          6.20752510e-03, -4.39794806e-03, -1.50533870e-02,\n",
       "         -3.84692888e-03,  4.03802398e-02, -3.06531090e-02,\n",
       "          1.28701868e-02,  1.12714053e-04,  5.85262604e-02,\n",
       "          5.67356818e-03, -1.50023360e-02,  1.28329801e-02,\n",
       "         -3.87974987e-03,  1.89834683e-02,  1.64398015e-02,\n",
       "          2.38181202e-02,  2.33026700e-02,  1.25472359e-02,\n",
       "          2.16503949e-02,  4.41276224e-03,  2.30896557e-02,\n",
       "         -1.33904452e-02,  2.85603061e-02,  3.88119651e-02,\n",
       "          2.92191843e-03, -1.41528411e-02,  1.10818443e-02,\n",
       "          8.03650445e-03,  1.14591320e-02,  6.89159496e-03,\n",
       "          2.79989505e-02, -2.13349073e-02, -1.10877177e-02,\n",
       "          2.07138873e-02,  1.78534031e-02],\n",
       "        [-2.32123383e-03,  2.66914038e-03, -5.84688098e-03,\n",
       "          1.77238883e-03,  1.20672483e-02, -1.78609259e-02,\n",
       "         -1.72086516e-02, -1.01790158e-02, -2.52875009e-03,\n",
       "         -1.08965328e-02,  1.31036024e-02, -2.52749058e-04,\n",
       "          2.59588359e-03, -6.34976931e-03, -1.05529785e-02,\n",
       "         -2.27205017e-03, -8.29770555e-03, -2.00203041e-02,\n",
       "          3.78281639e-03, -1.09411919e-02,  4.54841081e-04,\n",
       "         -9.06928640e-03, -1.76193541e-03,  4.76685563e-03,\n",
       "         -1.56226372e-02, -8.02087588e-03, -1.45448409e-02,\n",
       "          1.58765682e-03,  1.34847964e-02,  3.89122998e-03,\n",
       "         -1.30063572e-03, -2.24998896e-02, -3.25839059e-03,\n",
       "          1.22100685e-02, -2.79325570e-04, -2.46119729e-02,\n",
       "          5.75390176e-04, -1.38648583e-03,  5.78011793e-03,\n",
       "          6.51806795e-03,  1.23244779e-03, -1.82622534e-02,\n",
       "         -1.04654334e-02, -6.08183582e-03,  1.11878674e-02,\n",
       "          1.29584911e-02,  1.23416258e-03, -2.27884138e-03,\n",
       "          1.20343508e-02,  2.61166782e-03],\n",
       "        [-8.19568004e-03,  2.64273957e-02, -1.45528693e-02,\n",
       "          1.09623791e-02, -3.41428257e-03, -4.93504961e-03,\n",
       "          1.13045734e-02, -6.95694004e-03, -4.41956039e-03,\n",
       "         -3.48577193e-03, -5.12751911e-03,  7.99425706e-03,\n",
       "          8.50953019e-03, -4.00017128e-03,  1.12112762e-02,\n",
       "         -2.94747393e-03, -4.55599903e-03,  2.80066194e-03,\n",
       "         -1.71517782e-02, -8.54832359e-03,  2.92841921e-03,\n",
       "          1.07172115e-02,  1.08518690e-02, -2.00537187e-03,\n",
       "          1.38498510e-02, -5.60180377e-03, -6.53587829e-03,\n",
       "         -1.17677196e-02,  4.87104540e-03,  7.27656225e-04,\n",
       "         -2.48700447e-03,  1.25309161e-03,  7.98147791e-03,\n",
       "         -9.16213167e-03, -1.47281031e-02, -2.96181483e-03,\n",
       "         -2.02149982e-02,  2.83309311e-03,  2.04180169e-02,\n",
       "         -1.04143388e-02,  2.39575016e-03,  2.20780559e-03,\n",
       "          6.55841592e-04, -1.38305548e-02, -5.57367100e-03,\n",
       "          1.60881449e-03,  3.44000937e-03, -6.83665823e-03,\n",
       "         -1.24666641e-02, -1.88999405e-02],\n",
       "        [ 3.46182727e-03, -7.13317361e-03,  3.61308467e-02,\n",
       "          1.99755440e-03, -1.36681721e-02, -2.16635740e-02,\n",
       "          2.98260816e-02, -5.35292704e-03,  3.74464008e-02,\n",
       "          2.79279814e-02, -7.08899706e-05, -5.06045570e-03,\n",
       "          3.12612888e-03, -1.23995379e-02,  7.44248315e-03,\n",
       "          1.04851598e-02, -1.27537867e-03, -2.09201143e-02,\n",
       "         -2.35037010e-02,  4.74811781e-02, -4.37498566e-02,\n",
       "          1.54097189e-02, -4.21016721e-03,  9.08673384e-02,\n",
       "          2.63812947e-04,  3.11345481e-03,  1.81885962e-02,\n",
       "         -1.38886254e-02,  7.12688584e-02,  4.64398995e-02,\n",
       "          4.69999779e-02,  6.46516882e-02,  9.87085774e-03,\n",
       "          5.26320233e-02,  3.31957144e-04,  5.70861240e-02,\n",
       "         -1.41183416e-02,  2.79457440e-02,  9.15909514e-02,\n",
       "         -6.44255048e-03, -2.14958463e-03, -2.91212979e-03,\n",
       "          9.36997190e-03,  1.36396797e-02, -6.76748338e-03,\n",
       "          5.93834784e-02, -3.55209046e-02,  5.04215341e-03,\n",
       "          4.10464700e-02,  2.13222398e-02],\n",
       "        [ 1.03350872e-02,  5.26760239e-03,  2.35691025e-02,\n",
       "          2.38640214e-03, -1.83938759e-02, -6.94062111e-03,\n",
       "          9.19316285e-03, -2.14165435e-03,  2.51740842e-02,\n",
       "          5.75117906e-03,  8.56671623e-03,  1.57852940e-02,\n",
       "          9.70130375e-04, -3.06914603e-03,  1.59606227e-02,\n",
       "         -4.56668100e-03,  5.12495553e-03, -6.13683276e-03,\n",
       "          6.15131898e-05,  2.29857145e-02, -3.11292158e-02,\n",
       "          1.06607052e-02, -8.69126659e-03,  2.12374195e-02,\n",
       "          1.43860085e-03, -1.20882463e-02,  1.00192265e-02,\n",
       "          1.81291233e-02,  7.29255082e-03,  2.96065760e-02,\n",
       "          2.23520919e-02,  1.25486216e-02, -4.99436891e-03,\n",
       "          1.57125513e-02, -6.56205092e-04,  2.71853787e-02,\n",
       "          1.08542514e-02,  2.29502151e-02,  2.46270632e-02,\n",
       "         -5.24535918e-03, -1.69905999e-02, -1.49431944e-02,\n",
       "          1.62404320e-02,  7.75168312e-03, -4.73042361e-03,\n",
       "          2.08420923e-03, -3.56497297e-03, -7.41821404e-03,\n",
       "         -2.60808696e-03,  6.96941166e-03],\n",
       "        [-3.03568814e-03,  3.98590540e-03,  1.30584847e-02,\n",
       "          8.41722542e-03,  8.89789158e-03, -1.35059061e-02,\n",
       "          1.65840721e-03, -6.70588413e-03,  5.27724325e-03,\n",
       "         -5.55619816e-03,  6.65296229e-03, -9.93843353e-03,\n",
       "          8.10468348e-03,  3.68877274e-03,  4.06793328e-03,\n",
       "         -5.43278830e-03, -2.32901489e-03,  7.80802090e-03,\n",
       "          1.11627220e-02, -5.38676085e-03,  9.33208136e-04,\n",
       "          1.05069465e-02, -4.57819293e-03,  2.71276842e-03,\n",
       "         -6.48620097e-04, -1.60154939e-02, -8.64857336e-03,\n",
       "         -1.13206161e-02,  1.23338079e-02, -2.37810497e-02,\n",
       "          1.08001471e-02, -1.26763694e-02,  7.52775798e-03,\n",
       "         -5.53456480e-03, -1.50307578e-02,  1.99992830e-03,\n",
       "         -4.94516591e-03, -1.53898497e-02,  9.39657174e-03,\n",
       "          1.26866303e-02, -1.75706930e-02,  1.70052956e-02,\n",
       "         -6.60718050e-04, -2.67420584e-03, -6.72735746e-03,\n",
       "         -6.46192584e-03,  1.79342381e-02, -8.96081711e-03,\n",
       "          4.59457034e-03, -8.92200886e-03],\n",
       "        [ 3.77032812e-03, -8.09040889e-03,  4.36170954e-03,\n",
       "         -9.48166204e-03,  1.45753124e-02,  4.28953521e-03,\n",
       "          1.69350172e-02,  1.20511466e-03,  1.03395180e-02,\n",
       "          2.03761756e-03, -4.23341568e-03, -9.15018046e-03,\n",
       "          1.40679006e-02, -1.11680090e-02,  5.14011015e-03,\n",
       "          2.21549362e-02, -2.85889988e-03, -6.72761465e-03,\n",
       "         -8.68030153e-03,  8.08289735e-03, -2.43873023e-02,\n",
       "          1.26758886e-03,  7.11123184e-03,  4.27997494e-02,\n",
       "         -1.32800634e-03, -6.18543376e-04, -8.02325025e-04,\n",
       "         -1.71428301e-03,  3.53789245e-02,  3.07006699e-02,\n",
       "          4.14376109e-02,  2.94190623e-02, -1.31600858e-02,\n",
       "          3.28453068e-02, -3.18810690e-03,  2.77183974e-02,\n",
       "         -6.55729456e-03,  3.04518394e-02,  5.22432105e-02,\n",
       "         -9.74108560e-03, -5.06182252e-03, -3.68017935e-03,\n",
       "         -4.09306307e-04,  7.45694872e-03,  4.99420978e-03,\n",
       "          3.48998022e-02, -1.98785608e-02, -1.37104774e-02,\n",
       "          3.37722406e-02,  1.48418378e-02],\n",
       "        [ 2.62802882e-02,  7.88521024e-03, -3.01996470e-03,\n",
       "         -1.02651148e-02,  6.85912879e-03, -4.62818419e-03,\n",
       "          1.03438426e-02,  1.18380890e-02, -9.17657824e-03,\n",
       "          6.89403339e-03,  5.84872351e-04, -8.18465366e-03,\n",
       "         -7.94916313e-03,  1.42212613e-02,  1.55923120e-02,\n",
       "          7.99435129e-04, -7.66431391e-03,  1.23856586e-02,\n",
       "          1.85075451e-02,  5.09612456e-03,  1.10478481e-02,\n",
       "          7.75839716e-03, -2.69308641e-03,  2.15341518e-02,\n",
       "          4.27221401e-03,  1.05850156e-02,  1.62741536e-02,\n",
       "          2.17747305e-02,  5.31053390e-03, -2.51405320e-03,\n",
       "         -1.42942458e-02,  2.09085237e-02,  1.42498065e-02,\n",
       "          2.45000220e-02, -1.96360845e-02,  1.46718033e-02,\n",
       "          1.54331013e-02, -1.96172881e-02,  1.26369962e-02,\n",
       "         -1.50718679e-02, -5.27550378e-03, -6.61987728e-03,\n",
       "          1.54903269e-02,  4.48089187e-03, -3.62184837e-03,\n",
       "          8.85669626e-03,  1.52538848e-02, -2.11162184e-02,\n",
       "          1.48565380e-03, -1.07805856e-02],\n",
       "        [-4.44621840e-03, -1.26722062e-03, -1.62893358e-03,\n",
       "         -7.53040897e-03, -5.82166248e-03,  1.22557435e-02,\n",
       "         -9.03967042e-03, -1.68700700e-02,  6.40580309e-03,\n",
       "          5.78286466e-03,  1.30087183e-02, -1.49658301e-02,\n",
       "          2.54599077e-02,  1.30501170e-02, -4.28399286e-03,\n",
       "          1.81488037e-02,  3.29971081e-03,  1.06959133e-02,\n",
       "         -1.71176808e-03,  1.13789379e-02,  1.11977003e-02,\n",
       "          4.44301604e-03,  1.01912703e-02,  2.02361909e-03,\n",
       "          1.26656797e-02,  7.42646520e-03,  5.19899830e-03,\n",
       "         -7.32230584e-03, -1.34841834e-02, -1.86582805e-02,\n",
       "         -1.29849704e-02, -5.23738617e-03, -4.19929015e-03,\n",
       "          9.61583013e-03,  5.18511309e-03, -4.34093646e-03,\n",
       "         -7.50285459e-03, -1.00132184e-02,  1.70233391e-02,\n",
       "          1.33558356e-02, -1.78806794e-02, -5.98992273e-03,\n",
       "          1.31342826e-02,  1.11396175e-03, -1.60230597e-02,\n",
       "          4.21247068e-03,  2.27139172e-02,  2.74671502e-03,\n",
       "          8.05048293e-03, -1.58386562e-02],\n",
       "        [ 1.65205561e-02,  9.72892977e-03,  4.64478038e-02,\n",
       "          5.29698496e-03,  1.12876757e-02,  5.76668479e-03,\n",
       "          2.39364173e-02,  3.12937716e-02,  2.48611223e-02,\n",
       "          4.40214482e-02,  1.73280486e-02, -4.30786368e-03,\n",
       "          3.09045196e-03,  8.06400879e-03,  1.19035478e-02,\n",
       "          2.83180994e-03, -1.42583258e-02, -1.65236728e-02,\n",
       "         -9.86991353e-03,  5.13928767e-02, -5.14704445e-02,\n",
       "          3.50695426e-02,  3.44302581e-03,  6.61116741e-02,\n",
       "         -2.53518143e-03, -1.26300284e-02,  2.82550661e-02,\n",
       "          1.00485557e-02,  4.99420461e-02,  3.49881437e-02,\n",
       "          6.98067356e-02,  3.42566837e-02, -6.42771608e-03,\n",
       "          3.15669212e-02, -9.33215612e-03,  4.39329219e-02,\n",
       "          1.53140270e-03,  3.75418974e-02,  7.27396101e-02,\n",
       "          6.34013039e-03, -5.89790516e-03,  1.01938815e-03,\n",
       "          1.01905631e-02,  2.69552174e-02,  1.77018254e-03,\n",
       "          5.57763867e-02, -2.77458717e-02, -2.42860257e-03,\n",
       "          3.44202109e-02,  1.08936305e-02],\n",
       "        [ 1.01284335e-02, -4.84968117e-03, -9.59751782e-03,\n",
       "         -1.61900122e-03,  3.26444743e-03,  6.51074994e-03,\n",
       "          5.61542380e-03,  2.31897942e-02, -2.36772356e-02,\n",
       "          1.50742922e-02,  3.37033748e-02,  7.56878940e-03,\n",
       "          8.65757256e-03, -1.90763196e-02,  1.16939234e-02,\n",
       "         -3.14129032e-03,  3.43235648e-04,  2.50741020e-02,\n",
       "          7.34713479e-03, -2.50372042e-02,  2.90063213e-02,\n",
       "         -1.01440151e-03,  1.99119353e-03,  8.91016287e-04,\n",
       "          5.17567692e-03,  8.39470767e-03, -2.81567737e-03,\n",
       "         -1.72328656e-02, -7.31730672e-04, -2.43575477e-02,\n",
       "         -4.39080846e-03, -7.79795403e-03,  5.89482052e-03,\n",
       "          1.77830497e-02, -1.22367116e-02,  1.09670581e-02,\n",
       "          2.57603578e-02,  1.03173030e-02, -1.93555501e-02,\n",
       "          1.06110740e-02, -3.09129169e-03,  1.51095871e-02,\n",
       "          6.71184711e-04, -1.90399408e-02,  2.95898144e-03,\n",
       "         -2.13181464e-02,  1.16971421e-02,  5.23077654e-03,\n",
       "          9.02532696e-04,  3.51034672e-03],\n",
       "        [ 1.07742333e-02,  1.40149265e-03, -7.60825904e-03,\n",
       "         -5.71891451e-03, -4.10725305e-03,  9.20259177e-03,\n",
       "         -2.09559316e-02,  4.74421925e-03, -7.26267113e-03,\n",
       "         -1.26500459e-02, -9.96098757e-03,  2.35428780e-03,\n",
       "         -9.60989181e-03,  5.74901528e-04,  1.32121158e-02,\n",
       "         -2.23882921e-03,  7.51381953e-03,  1.54249627e-03,\n",
       "          5.22080374e-03, -1.25556163e-02,  1.05772780e-02,\n",
       "         -9.18288506e-04, -2.15518418e-02,  1.43774573e-03,\n",
       "         -7.10548215e-04,  5.27761288e-03,  1.61272333e-02,\n",
       "         -1.09489081e-02, -4.87316949e-03, -1.42027285e-03,\n",
       "          1.13440664e-02, -5.34289316e-03, -1.31421788e-02,\n",
       "          1.31565741e-02, -2.33337921e-02,  5.16321977e-03,\n",
       "          3.49608222e-03, -1.96817601e-02,  1.64360192e-02,\n",
       "          6.57562625e-03, -4.54730030e-03, -3.22220969e-03,\n",
       "          3.89090740e-03,  6.90148843e-04, -2.55067938e-03,\n",
       "         -9.27920482e-03, -1.15234015e-02,  1.26706294e-03,\n",
       "          5.26008310e-03,  1.13783240e-02],\n",
       "        [ 5.75745426e-03, -6.33123397e-03,  1.00474252e-02,\n",
       "          6.85128858e-03,  2.63666003e-03,  1.79118539e-03,\n",
       "          1.05133457e-02,  2.39487377e-03,  7.03706390e-03,\n",
       "          9.66488804e-03, -3.54650096e-03,  4.05901136e-03,\n",
       "         -9.20023122e-03,  5.05704888e-03,  5.94099148e-03,\n",
       "         -8.97362975e-03, -3.15299989e-03, -4.15495625e-03,\n",
       "          8.90614639e-03,  1.20053312e-02, -2.77092610e-02,\n",
       "         -1.61539770e-03, -8.62471729e-03,  3.27618437e-02,\n",
       "         -7.09047612e-03,  7.90009181e-03,  5.80227023e-03,\n",
       "          2.17851367e-03,  2.17065168e-02,  2.22131141e-02,\n",
       "          8.03902888e-03,  9.43003367e-03, -2.51063574e-03,\n",
       "          2.35650747e-02,  1.75212959e-02,  1.65802737e-02,\n",
       "          6.15652763e-03,  2.04316408e-02,  1.91561535e-02,\n",
       "         -1.38728823e-02, -1.30506793e-02, -7.07352565e-03,\n",
       "          5.38250413e-03,  2.52547146e-02, -7.01193108e-03,\n",
       "          1.71695202e-02, -4.68152087e-03,  1.46492742e-02,\n",
       "         -4.93872610e-03,  6.13312419e-03],\n",
       "        [-2.28163995e-03, -2.94869678e-04, -8.43191391e-03,\n",
       "          1.17625917e-02, -4.95243844e-03, -7.29024997e-03,\n",
       "         -3.12910881e-03, -2.68644399e-02,  4.48885558e-03,\n",
       "          8.85342806e-04, -1.25245967e-02, -6.27465575e-03,\n",
       "          1.00611938e-02,  1.85882398e-02, -1.42546439e-02,\n",
       "          2.39675615e-03, -1.62539701e-02,  1.72178727e-03,\n",
       "         -8.73082368e-03,  9.26863339e-04,  3.70871002e-03,\n",
       "         -7.82203159e-03, -4.60412846e-03,  5.36633485e-03,\n",
       "          5.49781470e-03,  2.03266797e-03,  1.17402597e-03,\n",
       "          1.24547501e-02,  2.96647209e-03, -5.16421063e-03,\n",
       "          1.63053296e-02,  2.03039307e-03, -5.45936505e-03,\n",
       "          6.88112525e-03, -6.52751597e-03, -4.06260336e-03,\n",
       "          1.85997763e-03, -1.24633870e-02, -3.02277604e-03,\n",
       "         -2.70843633e-02,  3.10911936e-04,  2.38014891e-02,\n",
       "         -2.44950771e-03, -1.08832788e-02,  1.34376734e-03,\n",
       "          1.96650475e-02, -1.99270090e-04,  6.76841509e-03,\n",
       "         -6.16631005e-03, -6.48677872e-03]]),\n",
       " 'b2': array([[-9.64422196e-06],\n",
       "        [-2.44520465e-02],\n",
       "        [ 1.91235522e-03],\n",
       "        [ 1.05378359e-03],\n",
       "        [-1.38874143e-07],\n",
       "        [-1.93299346e-04],\n",
       "        [-1.43016959e-02],\n",
       "        [-3.97172883e-07],\n",
       "        [ 0.00000000e+00],\n",
       "        [-2.45752935e-02],\n",
       "        [-8.84661549e-03],\n",
       "        [ 4.48800318e-04],\n",
       "        [-1.23527091e-02],\n",
       "        [-1.45772511e-03],\n",
       "        [ 2.41134392e-03],\n",
       "        [-2.37960533e-02],\n",
       "        [ 6.81132791e-03],\n",
       "        [ 5.77565582e-05],\n",
       "        [-8.05605510e-03],\n",
       "        [-8.80644119e-06]]),\n",
       " 'W3': array([[ 9.00422571e-03,  7.80874940e-04, -1.67541570e-02,\n",
       "          5.87259228e-03,  7.46263334e-03,  7.00360010e-03,\n",
       "         -9.78755983e-03, -7.22488559e-03, -1.28834728e-03,\n",
       "         -1.71358401e-02,  1.18772398e-02,  3.99789577e-04,\n",
       "         -1.55374795e-02, -9.71712107e-03,  1.51732513e-02,\n",
       "         -1.24143000e-02, -6.77981165e-04,  3.36097859e-03,\n",
       "          7.61845019e-03,  1.07852296e-02],\n",
       "        [-8.69256839e-04,  1.45126459e-01,  6.58038221e-03,\n",
       "         -8.56369799e-03, -1.33113822e-02, -1.15039332e-02,\n",
       "          7.14403421e-02, -8.80632918e-05,  8.19725116e-04,\n",
       "          1.51244677e-01,  3.93162468e-02, -6.48212311e-03,\n",
       "          6.90767379e-02,  1.46724157e-02, -5.57858315e-03,\n",
       "          1.31416699e-01, -2.13632778e-02,  3.29812703e-03,\n",
       "          4.89932529e-02,  1.08793448e-02],\n",
       "        [-1.19930318e-02, -6.67686597e-03,  4.34644495e-02,\n",
       "          2.31209415e-02, -8.38589384e-03, -3.94482436e-03,\n",
       "         -4.61486827e-03, -1.29482094e-02, -8.74300230e-04,\n",
       "          4.04152703e-03, -4.10659125e-03,  1.22009785e-02,\n",
       "         -6.51131035e-03,  3.54818622e-02,  2.34102934e-02,\n",
       "          1.60754830e-03,  4.67076352e-02, -1.42725020e-05,\n",
       "          1.18158025e-02, -4.08532694e-03],\n",
       "        [-2.61660964e-03,  1.56208120e-01, -6.80113235e-03,\n",
       "          4.06265035e-03, -1.16904464e-02, -5.18371492e-03,\n",
       "          9.49952166e-02, -2.89941276e-03, -1.66024507e-04,\n",
       "          1.66236438e-01,  6.21053915e-02,  1.92821631e-03,\n",
       "          9.64700394e-02,  2.07773286e-02, -8.72315216e-03,\n",
       "          1.50630741e-01, -3.39297041e-02,  4.78370324e-03,\n",
       "          4.73844121e-02, -5.82462883e-03],\n",
       "        [-9.02811961e-03, -4.79760421e-03,  1.48024426e-02,\n",
       "          1.03013593e-02,  1.70521189e-02, -7.70244211e-03,\n",
       "         -2.50475301e-03, -1.18783840e-04,  3.62138695e-03,\n",
       "         -5.33565689e-03, -1.22379118e-02,  3.04756889e-03,\n",
       "         -1.54223203e-02,  2.50894745e-02,  1.57967712e-03,\n",
       "          3.59576270e-03,  1.88357043e-02,  1.11713345e-02,\n",
       "         -1.37285722e-02,  4.47473579e-03]]),\n",
       " 'b3': array([[ 0.        ],\n",
       "        [-0.11024031],\n",
       "        [ 0.07340568],\n",
       "        [-0.12400571],\n",
       "        [ 0.02390363]]),\n",
       " 'W4': array([[-0.00373482, -0.29516279,  0.10640697, -0.33917078,  0.04285694]]),\n",
       " 'b4': array([[1.9123114]])}"
      ]
     },
     "execution_count": 66,
     "metadata": {},
     "output_type": "execute_result"
    }
   ],
   "source": [
    "parametros"
   ]
  },
  {
   "cell_type": "code",
   "execution_count": 48,
   "metadata": {},
   "outputs": [
    {
     "data": {
      "text/plain": [
       "[<matplotlib.lines.Line2D at 0x24b949a0c18>]"
      ]
     },
     "execution_count": 48,
     "metadata": {},
     "output_type": "execute_result"
    },
    {
     "data": {
      "image/png": "[encoded data removed]",
      "text/plain": [
       "<Figure size 432x288 with 1 Axes>"
      ]
     },
     "metadata": {
      "needs_background": "light"
     },
     "output_type": "display_data"
    }
   ],
   "source": [
    "# Plot do erro durante o treinamento\n",
    "plt.plot(custo)"
   ]
  },
  {
   "cell_type": "code",
   "execution_count": 49,
   "metadata": {},
   "outputs": [],
   "source": [
    "# Previsões com os dados de treino\n",
    "y_pred_treino = predict(X_treino, parametros)"
   ]
  },
  {
   "cell_type": "code",
   "execution_count": 50,
   "metadata": {},
   "outputs": [
    {
     "data": {
      "text/plain": [
       "array([[8.11114247e-01, 7.95577052e-01, 8.74509822e-01, 8.72543044e-01,\n",
       "        6.98834598e-05, 2.57354991e-23, 8.75699004e-01, 8.75758183e-01,\n",
       "        8.75019240e-01, 8.75395050e-01, 9.49189885e-11, 8.75916853e-01,\n",
       "        8.74873338e-01, 8.71800146e-01, 1.84422593e-02, 6.07607831e-09,\n",
       "        8.75110547e-01, 8.74999342e-01, 8.75590632e-01, 8.75055489e-01,\n",
       "        8.74937998e-01, 1.09056058e-09, 9.61929159e-06, 8.74333306e-01,\n",
       "        8.74468460e-01, 8.74772144e-01, 8.74889302e-01, 1.01557817e-01,\n",
       "        1.90965120e-07, 8.76410759e-01, 8.75238862e-01, 2.45790919e-01,\n",
       "        2.47281003e-01, 8.73760156e-01, 8.36257815e-01, 8.71764236e-01,\n",
       "        8.26651891e-01, 8.74385162e-01, 8.74789235e-01, 8.74822585e-01,\n",
       "        8.75324402e-01, 8.75098921e-01, 8.74603458e-01, 8.75348739e-01,\n",
       "        8.76079912e-01, 8.33483913e-01, 8.18562448e-01, 6.47007135e-01,\n",
       "        8.75769931e-01, 8.75130261e-01, 8.11266875e-01, 5.06853647e-05,\n",
       "        8.74714538e-01, 8.74721919e-01, 5.33117441e-01, 3.46856135e-08,\n",
       "        8.74124807e-01, 8.76064601e-01, 8.75141511e-01, 1.26753118e-07,\n",
       "        8.75345456e-01, 8.73669511e-01, 8.75473631e-01, 8.70356911e-01,\n",
       "        5.29253904e-05, 7.95579061e-04, 3.36420348e-01, 5.95750812e-06,\n",
       "        1.39065504e-07, 5.91868125e-01, 8.37039098e-01, 8.46521432e-01,\n",
       "        1.51404900e-01, 8.75232118e-01, 9.32925328e-03, 1.03371588e-04,\n",
       "        8.75180014e-01, 8.75649536e-01, 5.87296240e-24, 1.16496714e-03,\n",
       "        2.78857021e-01, 8.75365627e-01, 8.75164873e-01, 8.65607360e-01,\n",
       "        5.83585060e-02, 8.41771577e-01, 8.75076621e-01, 8.74041234e-01,\n",
       "        8.73808791e-01, 8.75630931e-01, 7.96475463e-01, 8.76289149e-01,\n",
       "        2.01435823e-03, 8.75553352e-01, 1.05264257e-01, 8.75804724e-01,\n",
       "        8.76686077e-01, 8.48249880e-02, 8.65755928e-01, 8.75155794e-01,\n",
       "        4.26988967e-04, 8.74916949e-01, 8.75097430e-01, 6.97258212e-01,\n",
       "        8.75176676e-01, 2.05052536e-01, 8.08400478e-01, 8.66877832e-01,\n",
       "        1.01591778e-02, 3.15331510e-02, 8.75449854e-01, 6.14871868e-01,\n",
       "        8.74666335e-01, 8.75449403e-01, 8.75541877e-01, 8.75273814e-01,\n",
       "        8.74232584e-01, 8.75191989e-01, 8.75283749e-01, 2.83845723e-04,\n",
       "        8.75196835e-01, 3.11131093e-03, 8.75609408e-01, 8.33179372e-01,\n",
       "        8.74491594e-01, 8.75632881e-01, 8.75099731e-01, 1.07722848e-04,\n",
       "        8.75223646e-01, 2.95573154e-08, 8.44858698e-01, 8.75137941e-01,\n",
       "        3.09029574e-06, 8.75376995e-01, 8.74966522e-01, 8.74999227e-01,\n",
       "        8.74459878e-01, 8.75521906e-01, 8.75752973e-01, 8.75750475e-01,\n",
       "        8.75931546e-01, 8.75956047e-01, 1.43884638e-02, 8.75130384e-01,\n",
       "        8.75800363e-01, 1.12909825e-06, 8.74623202e-01, 5.86707410e-01,\n",
       "        4.89581546e-02, 7.76124358e-04, 1.78318412e-04, 8.47558132e-01,\n",
       "        8.75475323e-01, 8.63101349e-01, 8.75833992e-01, 8.74029911e-01,\n",
       "        4.88755123e-01, 8.74127551e-01, 4.31461672e-01, 7.23639340e-03,\n",
       "        4.63428189e-05, 1.55431076e-13, 5.28555889e-01, 8.74414458e-01,\n",
       "        7.91099540e-01, 8.74976418e-01, 8.75020977e-01, 8.66631758e-01,\n",
       "        8.75065487e-01, 8.74234118e-01, 4.22461904e-03, 3.31861359e-01,\n",
       "        5.05573064e-14, 1.48666470e-01, 8.69991254e-01, 2.00357307e-01,\n",
       "        1.72972743e-03, 8.27412934e-05, 8.74786115e-01, 8.75055147e-01,\n",
       "        2.41233018e-01, 3.92429266e-01, 8.48248815e-01, 2.61497466e-04,\n",
       "        5.02613389e-01, 2.32672009e-05, 2.20655687e-01, 2.41493552e-02,\n",
       "        6.84197277e-01, 5.68806456e-01, 6.95101323e-01, 1.12904615e-14,\n",
       "        1.83225858e-03, 4.63935227e-03, 7.27295276e-05, 3.82090010e-03,\n",
       "        8.75298161e-01, 8.73730606e-01, 8.74373986e-01, 5.03687888e-01,\n",
       "        8.74275254e-01, 8.76124645e-01, 8.74273990e-01, 8.74296574e-01,\n",
       "        8.75729494e-01, 3.57174844e-04, 8.75044820e-01, 8.75498167e-01,\n",
       "        8.75516018e-01, 3.06113070e-04, 8.75057675e-01, 5.59905678e-01,\n",
       "        1.86771620e-01, 8.75575807e-01, 5.86095764e-03, 8.74277296e-01,\n",
       "        8.00899830e-01, 2.33941159e-04, 8.74779022e-01, 4.78666195e-07,\n",
       "        8.74449011e-01, 8.75660819e-01, 2.12840092e-05, 8.55466265e-01,\n",
       "        8.75044006e-01, 8.74412458e-01, 8.30850720e-01, 5.72218822e-04,\n",
       "        8.74455458e-01, 8.75463101e-01, 1.58519747e-02, 8.75109514e-01,\n",
       "        9.99694622e-07, 1.18514472e-03, 3.51504218e-01, 8.75899193e-01,\n",
       "        8.75253441e-01, 8.74757873e-01, 8.74846798e-01, 8.76213332e-01,\n",
       "        5.30853328e-01, 8.75021202e-01, 5.56954586e-02, 8.75491581e-01,\n",
       "        1.15377747e-08, 8.75296096e-01, 8.75134412e-01, 3.69625355e-02,\n",
       "        8.74498190e-01, 9.06122020e-08, 5.15551944e-11, 8.58030891e-01,\n",
       "        1.77427407e-01, 8.75304936e-01, 8.74446842e-01, 2.63816190e-04,\n",
       "        8.75094169e-01, 7.66191263e-01, 8.74949873e-01, 2.19454481e-04,\n",
       "        4.49086316e-14, 8.66226684e-01, 4.11893765e-01, 8.75662312e-01,\n",
       "        8.47011840e-01, 1.80346846e-01, 8.75314270e-01, 8.75377742e-01,\n",
       "        8.75444064e-01, 1.21644892e-05, 5.19310814e-06, 4.19653307e-02,\n",
       "        8.75540003e-01, 4.39388121e-02, 6.89450555e-01, 1.45905647e-02,\n",
       "        1.79108726e-02, 8.55690031e-01, 8.74984527e-01, 8.75447261e-01,\n",
       "        7.58289458e-03, 5.17317879e-04, 5.01012980e-04, 8.75165334e-01,\n",
       "        1.90202195e-07, 1.48728106e-04, 8.75607918e-01, 8.75768390e-01,\n",
       "        8.75648739e-01, 8.74625823e-01, 8.75717863e-01, 8.75709302e-01,\n",
       "        8.74445172e-01, 8.61425958e-01, 8.76090508e-01, 8.75309072e-01,\n",
       "        8.74642929e-01, 4.48365769e-01, 5.34383671e-02, 8.75566148e-01,\n",
       "        8.71658067e-01, 2.48283689e-06, 8.75109071e-01, 8.74517123e-01,\n",
       "        1.33932364e-01, 1.44780273e-01, 8.15505238e-01, 8.50897849e-01,\n",
       "        8.75479194e-01, 3.15629716e-19, 8.75001944e-01, 8.01213792e-01,\n",
       "        8.75013853e-01, 8.75535548e-01, 1.12225976e-04, 1.89981939e-13,\n",
       "        7.73695729e-01, 8.64078463e-01, 8.76162103e-01, 2.05956567e-03,\n",
       "        8.52132077e-01, 8.75930144e-01, 8.06575688e-01, 1.06660826e-01,\n",
       "        8.75330072e-01, 7.91202474e-01, 8.75973973e-01, 7.72089080e-01,\n",
       "        8.74984407e-01, 8.38951568e-01, 2.03364444e-01, 7.82660548e-01,\n",
       "        8.60474614e-01, 1.14388536e-01, 8.75814437e-01, 8.42062581e-01,\n",
       "        8.76196595e-01, 8.48546292e-01, 8.76099363e-01, 8.75326931e-01,\n",
       "        8.74816028e-01, 8.65864954e-01, 8.75175047e-01, 1.26365416e-04,\n",
       "        5.73540141e-01, 8.75432810e-01, 7.71979684e-01, 8.75046966e-01,\n",
       "        8.59672264e-01, 8.74291040e-01, 8.74273040e-01, 8.75893242e-01,\n",
       "        8.75476550e-01, 8.75466708e-01, 7.25413573e-01, 1.79161536e-06,\n",
       "        1.34933125e-03, 8.75433678e-01, 1.85405956e-01, 5.55733815e-02,\n",
       "        4.44205532e-01, 8.74737562e-01, 8.17320149e-01, 8.72510232e-01,\n",
       "        8.74939450e-01, 8.17653571e-01, 7.21196726e-01, 8.75453270e-01,\n",
       "        8.74989827e-01, 8.75116136e-01, 7.73463090e-01, 8.54663110e-01,\n",
       "        7.91451592e-01, 8.75052372e-01, 8.75630578e-01, 6.43911567e-01,\n",
       "        2.78424311e-02, 8.75283187e-01, 8.47936295e-01, 1.37700898e-01,\n",
       "        8.75782051e-01, 8.75723960e-01, 5.73875022e-02, 2.69444051e-02,\n",
       "        8.75147644e-01, 8.43384133e-01, 3.85889381e-03, 7.09158709e-01,\n",
       "        1.68397344e-03, 8.74730851e-01, 8.74317622e-01, 8.75645839e-01,\n",
       "        4.29825106e-05, 7.80083161e-01, 5.78367193e-02, 8.75767454e-01,\n",
       "        8.75694520e-01, 8.75846765e-01, 8.25289165e-01, 8.75663752e-01,\n",
       "        3.75952492e-05, 1.66352600e-02, 8.63847019e-01, 8.74960520e-01,\n",
       "        8.74551080e-01, 8.75683346e-01, 4.78724616e-04, 2.51685523e-01,\n",
       "        8.53717286e-01, 8.75588734e-01, 5.74050639e-02, 1.34075960e-04,\n",
       "        8.75964487e-01, 8.74730577e-01, 1.80346468e-03, 8.75864128e-01,\n",
       "        5.78435811e-01, 1.86681261e-05, 8.75197389e-01, 8.74945199e-01,\n",
       "        1.97275914e-14, 8.75146718e-01, 6.47969601e-03, 8.74590161e-01,\n",
       "        8.74944299e-01, 8.75342941e-01, 8.72536688e-01, 8.72378756e-01,\n",
       "        6.89657139e-11, 8.74109605e-01, 8.75546222e-01, 8.75089818e-01,\n",
       "        4.59719018e-11, 8.44676908e-01, 8.74683260e-01, 1.84984798e-02,\n",
       "        8.74880459e-01, 8.75187029e-01, 1.92854704e-07, 6.75044171e-07,\n",
       "        8.75291806e-01, 8.75745084e-01, 8.39949107e-01, 8.10211928e-01,\n",
       "        1.07757732e-03, 8.75055805e-01, 8.74726066e-01, 8.76155059e-01,\n",
       "        8.75425453e-01, 5.38342235e-09, 8.75097462e-01, 8.75188544e-01,\n",
       "        2.89114414e-04, 8.74631022e-01, 9.11995663e-02, 4.91745755e-02,\n",
       "        6.10318272e-01, 8.59720168e-01, 4.94799721e-01, 4.06118137e-01,\n",
       "        8.75114077e-01, 8.74994033e-01, 8.76424956e-01, 6.86696884e-01,\n",
       "        8.76446538e-01, 8.74117603e-01, 1.02120177e-01, 8.49190046e-01,\n",
       "        2.56764855e-06, 8.48215080e-01, 2.07247430e-04, 8.74355838e-01,\n",
       "        6.98142947e-01, 1.05189581e-03, 8.70419729e-01, 8.75810452e-01,\n",
       "        8.75114786e-01, 8.75174077e-01, 8.75391887e-01, 1.50773825e-02,\n",
       "        8.74400643e-01, 7.83773680e-01, 8.74396797e-01]])"
      ]
     },
     "execution_count": 50,
     "metadata": {},
     "output_type": "execute_result"
    }
   ],
   "source": [
    "# Visualiza as previsões\n",
    "y_pred_treino"
   ]
  },
  {
   "cell_type": "code",
   "execution_count": 51,
   "metadata": {},
   "outputs": [],
   "source": [
    "# Ajustamos o shape em treino\n",
    "y_pred_treino = y_pred_treino.reshape(-1)\n",
    "y_treino = y_treino.reshape(-1)"
   ]
  },
  {
   "cell_type": "code",
   "execution_count": 52,
   "metadata": {},
   "outputs": [
    {
     "data": {
      "text/plain": [
       "array([ True,  True,  True,  True, False, False,  True,  True,  True,\n",
       "        True, False,  True,  True,  True, False, False,  True,  True,\n",
       "        True,  True,  True, False, False,  True,  True,  True,  True,\n",
       "       False, False,  True,  True, False, False,  True,  True,  True,\n",
       "        True,  True,  True,  True,  True,  True,  True,  True,  True,\n",
       "        True,  True,  True,  True,  True,  True, False,  True,  True,\n",
       "        True, False,  True,  True,  True, False,  True,  True,  True,\n",
       "        True, False, False, False, False, False,  True,  True,  True,\n",
       "       False,  True, False, False,  True,  True, False, False, False,\n",
       "        True,  True,  True, False,  True,  True,  True,  True,  True,\n",
       "        True,  True, False,  True, False,  True,  True, False,  True,\n",
       "        True, False,  True,  True,  True,  True, False,  True,  True,\n",
       "       False, False,  True,  True,  True,  True,  True,  True,  True,\n",
       "        True,  True, False,  True, False,  True,  True,  True,  True,\n",
       "        True, False,  True, False,  True,  True, False,  True,  True,\n",
       "        True,  True,  True,  True,  True,  True,  True, False,  True,\n",
       "        True, False,  True,  True, False, False, False,  True,  True,\n",
       "        True,  True,  True, False,  True, False, False, False, False,\n",
       "        True,  True,  True,  True,  True,  True,  True,  True, False,\n",
       "       False, False, False,  True, False, False, False,  True,  True,\n",
       "       False, False,  True, False,  True, False, False, False,  True,\n",
       "        True,  True, False, False, False, False, False,  True,  True,\n",
       "        True,  True,  True,  True,  True,  True,  True, False,  True,\n",
       "        True,  True, False,  True,  True, False,  True, False,  True,\n",
       "        True, False,  True, False,  True,  True, False,  True,  True,\n",
       "        True,  True, False,  True,  True, False,  True, False, False,\n",
       "       False,  True,  True,  True,  True,  True,  True,  True, False,\n",
       "        True, False,  True,  True, False,  True, False, False,  True,\n",
       "       False,  True,  True, False,  True,  True,  True, False, False,\n",
       "        True, False,  True,  True, False,  True,  True,  True, False,\n",
       "       False, False,  True, False,  True, False, False,  True,  True,\n",
       "        True, False, False, False,  True, False, False,  True,  True,\n",
       "        True,  True,  True,  True,  True,  True,  True,  True,  True,\n",
       "       False, False,  True,  True, False,  True,  True, False, False,\n",
       "        True,  True,  True, False,  True,  True,  True,  True, False,\n",
       "       False,  True,  True,  True, False,  True,  True,  True, False,\n",
       "        True,  True,  True,  True,  True,  True, False,  True,  True,\n",
       "       False,  True,  True,  True,  True,  True,  True,  True,  True,\n",
       "        True, False,  True,  True,  True,  True,  True,  True,  True,\n",
       "        True,  True,  True,  True, False, False,  True, False, False,\n",
       "       False,  True,  True,  True,  True,  True,  True,  True,  True,\n",
       "        True,  True,  True,  True,  True,  True,  True, False,  True,\n",
       "        True, False,  True,  True, False, False,  True,  True, False,\n",
       "        True, False,  True,  True,  True, False,  True, False,  True,\n",
       "        True,  True,  True,  True, False, False,  True,  True,  True,\n",
       "        True, False, False,  True,  True, False, False,  True,  True,\n",
       "       False,  True,  True, False,  True,  True, False,  True, False,\n",
       "        True,  True,  True,  True,  True, False,  True,  True,  True,\n",
       "       False,  True,  True, False,  True,  True, False, False,  True,\n",
       "        True,  True,  True, False,  True,  True,  True,  True, False,\n",
       "        True,  True, False,  True, False, False,  True,  True, False,\n",
       "       False,  True,  True,  True,  True,  True,  True, False,  True,\n",
       "       False,  True, False,  True,  True, False,  True,  True,  True,\n",
       "        True,  True, False,  True,  True,  True])"
      ]
     },
     "execution_count": 52,
     "metadata": {},
     "output_type": "execute_result"
    }
   ],
   "source": [
    "y_pred_treino > 0.5"
   ]
  },
  {
   "cell_type": "code",
   "execution_count": 53,
   "metadata": {},
   "outputs": [],
   "source": [
    "# Convertemos as previsões para o valor binário de classe \n",
    "# (0 ou 1, usando como threshold o valor de 0.5 da probabilidade)\n",
    "y_pred_treino = 1 * (y_pred_treino > 0.5)"
   ]
  },
  {
   "cell_type": "code",
   "execution_count": 54,
   "metadata": {},
   "outputs": [
    {
     "data": {
      "text/plain": [
       "array([1, 1, 1, 1, 0, 0, 1, 1, 1, 1, 0, 1, 1, 1, 0, 0, 1, 1, 1, 1, 1, 0,\n",
       "       0, 1, 1, 1, 1, 0, 0, 1, 1, 0, 0, 1, 1, 1, 1, 1, 1, 1, 1, 1, 1, 1,\n",
       "       1, 1, 1, 1, 1, 1, 1, 0, 1, 1, 1, 0, 1, 1, 1, 0, 1, 1, 1, 1, 0, 0,\n",
       "       0, 0, 0, 1, 1, 1, 0, 1, 0, 0, 1, 1, 0, 0, 0, 1, 1, 1, 0, 1, 1, 1,\n",
       "       1, 1, 1, 1, 0, 1, 0, 1, 1, 0, 1, 1, 0, 1, 1, 1, 1, 0, 1, 1, 0, 0,\n",
       "       1, 1, 1, 1, 1, 1, 1, 1, 1, 0, 1, 0, 1, 1, 1, 1, 1, 0, 1, 0, 1, 1,\n",
       "       0, 1, 1, 1, 1, 1, 1, 1, 1, 1, 0, 1, 1, 0, 1, 1, 0, 0, 0, 1, 1, 1,\n",
       "       1, 1, 0, 1, 0, 0, 0, 0, 1, 1, 1, 1, 1, 1, 1, 1, 0, 0, 0, 0, 1, 0,\n",
       "       0, 0, 1, 1, 0, 0, 1, 0, 1, 0, 0, 0, 1, 1, 1, 0, 0, 0, 0, 0, 1, 1,\n",
       "       1, 1, 1, 1, 1, 1, 1, 0, 1, 1, 1, 0, 1, 1, 0, 1, 0, 1, 1, 0, 1, 0,\n",
       "       1, 1, 0, 1, 1, 1, 1, 0, 1, 1, 0, 1, 0, 0, 0, 1, 1, 1, 1, 1, 1, 1,\n",
       "       0, 1, 0, 1, 1, 0, 1, 0, 0, 1, 0, 1, 1, 0, 1, 1, 1, 0, 0, 1, 0, 1,\n",
       "       1, 0, 1, 1, 1, 0, 0, 0, 1, 0, 1, 0, 0, 1, 1, 1, 0, 0, 0, 1, 0, 0,\n",
       "       1, 1, 1, 1, 1, 1, 1, 1, 1, 1, 1, 0, 0, 1, 1, 0, 1, 1, 0, 0, 1, 1,\n",
       "       1, 0, 1, 1, 1, 1, 0, 0, 1, 1, 1, 0, 1, 1, 1, 0, 1, 1, 1, 1, 1, 1,\n",
       "       0, 1, 1, 0, 1, 1, 1, 1, 1, 1, 1, 1, 1, 0, 1, 1, 1, 1, 1, 1, 1, 1,\n",
       "       1, 1, 1, 0, 0, 1, 0, 0, 0, 1, 1, 1, 1, 1, 1, 1, 1, 1, 1, 1, 1, 1,\n",
       "       1, 1, 0, 1, 1, 0, 1, 1, 0, 0, 1, 1, 0, 1, 0, 1, 1, 1, 0, 1, 0, 1,\n",
       "       1, 1, 1, 1, 0, 0, 1, 1, 1, 1, 0, 0, 1, 1, 0, 0, 1, 1, 0, 1, 1, 0,\n",
       "       1, 1, 0, 1, 0, 1, 1, 1, 1, 1, 0, 1, 1, 1, 0, 1, 1, 0, 1, 1, 0, 0,\n",
       "       1, 1, 1, 1, 0, 1, 1, 1, 1, 0, 1, 1, 0, 1, 0, 0, 1, 1, 0, 0, 1, 1,\n",
       "       1, 1, 1, 1, 0, 1, 0, 1, 0, 1, 1, 0, 1, 1, 1, 1, 1, 0, 1, 1, 1])"
      ]
     },
     "execution_count": 54,
     "metadata": {},
     "output_type": "execute_result"
    }
   ],
   "source": [
    "y_pred_treino"
   ]
  },
  {
   "cell_type": "code",
   "execution_count": 55,
   "metadata": {},
   "outputs": [],
   "source": [
    "# Calculamos a acurácia comparando valor real com valor previsto\n",
    "acc_treino = sum(1 * (y_pred_treino == y_treino)) / len(y_pred_treino) * 100"
   ]
  },
  {
   "cell_type": "code",
   "execution_count": 56,
   "metadata": {},
   "outputs": [
    {
     "name": "stdout",
     "output_type": "stream",
     "text": [
      "Acurácia nos dados de treino: 91.7184265010352\n"
     ]
    }
   ],
   "source": [
    "print(\"Acurácia nos dados de treino: \" + str(acc_treino))"
   ]
  },
  {
   "cell_type": "code",
   "execution_count": 57,
   "metadata": {},
   "outputs": [
    {
     "name": "stdout",
     "output_type": "stream",
     "text": [
      "              precision    recall  f1-score   support\n",
      "\n",
      "     Maligno       0.97      0.81      0.88       183\n",
      "     Benigno       0.89      0.98      0.94       300\n",
      "\n",
      "    accuracy                           0.92       483\n",
      "   macro avg       0.93      0.90      0.91       483\n",
      "weighted avg       0.92      0.92      0.92       483\n",
      "\n"
     ]
    }
   ],
   "source": [
    "print(classification_report(y_treino, y_pred_treino, target_names = ['Maligno', 'Benigno']))"
   ]
  },
  {
   "cell_type": "code",
   "execution_count": 58,
   "metadata": {},
   "outputs": [],
   "source": [
    "# Previsões com o modelo usando dados de teste\n",
    "y_pred_teste = predict(X_teste, parametros)"
   ]
  },
  {
   "cell_type": "code",
   "execution_count": 59,
   "metadata": {},
   "outputs": [
    {
     "data": {
      "text/plain": [
       "array([[1.41458631e-12, 8.74785352e-01, 8.75194566e-01, 1.02267540e-04,\n",
       "        8.74069468e-01, 8.75291500e-01, 4.66503040e-01, 8.74916323e-01,\n",
       "        3.96301315e-02, 8.54740406e-01, 8.74515163e-01, 8.74702986e-01,\n",
       "        8.74225745e-01, 4.52252428e-01, 8.75422612e-01, 8.56263532e-01,\n",
       "        9.78486589e-04, 2.75944405e-03, 8.75721530e-01, 8.74576194e-01,\n",
       "        2.33861400e-10, 8.75033207e-01, 8.53453784e-01, 8.74096900e-01,\n",
       "        8.75484362e-01, 2.15879494e-04, 8.74448891e-01, 8.71204580e-01,\n",
       "        8.75093548e-01, 4.72972264e-01, 7.20340170e-01, 8.17035015e-01,\n",
       "        8.88544751e-07, 8.27584464e-01, 5.58568157e-08, 8.74814491e-01,\n",
       "        8.75047191e-01, 8.75368287e-01, 1.38277010e-03, 8.75762476e-01,\n",
       "        1.08100182e-02, 1.98932728e-01, 7.62453789e-04, 2.50519262e-03,\n",
       "        8.05513916e-02, 8.67105889e-01, 8.74310869e-01, 8.75200859e-01,\n",
       "        8.75056995e-01, 8.74593459e-01, 8.75512488e-01, 8.75542119e-01,\n",
       "        8.25574992e-01, 8.76596921e-01, 8.51929415e-01, 8.75850008e-01,\n",
       "        8.74169025e-01, 8.08088695e-01, 8.46607422e-01, 8.75108330e-01,\n",
       "        8.74505670e-01, 8.75699309e-01, 2.73968902e-07, 7.43425436e-01,\n",
       "        8.69223509e-01, 8.74015609e-01, 1.56902616e-02, 8.75680065e-01,\n",
       "        8.74689671e-01, 8.57081369e-01, 1.28745584e-02, 8.75905265e-01,\n",
       "        8.75744421e-01, 5.06442691e-01, 1.50613336e-12, 8.74419946e-01,\n",
       "        8.63628463e-01, 3.72203200e-01, 8.74824867e-01, 7.60248525e-01,\n",
       "        8.75072077e-01, 8.73839704e-01, 1.05317485e-03, 2.11428853e-01,\n",
       "        7.98077253e-01, 8.74180607e-01]])"
      ]
     },
     "execution_count": 59,
     "metadata": {},
     "output_type": "execute_result"
    }
   ],
   "source": [
    "# Visualiza os dados\n",
    "y_pred_teste"
   ]
  },
  {
   "cell_type": "code",
   "execution_count": 60,
   "metadata": {},
   "outputs": [],
   "source": [
    "# Ajustamos os shapes\n",
    "y_pred_teste = y_pred_teste.reshape(-1)\n",
    "y_teste = y_teste.reshape(-1)"
   ]
  },
  {
   "cell_type": "code",
   "execution_count": 61,
   "metadata": {},
   "outputs": [],
   "source": [
    "# Convertemos as previsões para o valor binário de classe\n",
    "y_pred_teste = 1 * (y_pred_teste > 0.5)"
   ]
  },
  {
   "cell_type": "code",
   "execution_count": 62,
   "metadata": {},
   "outputs": [
    {
     "data": {
      "text/plain": [
       "array([0, 1, 1, 0, 1, 1, 0, 1, 0, 1, 1, 1, 1, 0, 1, 1, 0, 0, 1, 1, 0, 1,\n",
       "       1, 1, 1, 0, 1, 1, 1, 0, 1, 1, 0, 1, 0, 1, 1, 1, 0, 1, 0, 0, 0, 0,\n",
       "       0, 1, 1, 1, 1, 1, 1, 1, 1, 1, 1, 1, 1, 1, 1, 1, 1, 1, 0, 1, 1, 1,\n",
       "       0, 1, 1, 1, 0, 1, 1, 1, 0, 1, 1, 0, 1, 1, 1, 1, 0, 0, 1, 1])"
      ]
     },
     "execution_count": 62,
     "metadata": {},
     "output_type": "execute_result"
    }
   ],
   "source": [
    "# Visualizamos as previsões\n",
    "y_pred_teste"
   ]
  },
  {
   "cell_type": "code",
   "execution_count": 63,
   "metadata": {},
   "outputs": [],
   "source": [
    "# Calculamos a acurácia\n",
    "acuracia = sum(1 * (y_pred_teste == y_teste)) / len(y_pred_teste) * 100"
   ]
  },
  {
   "cell_type": "code",
   "execution_count": 64,
   "metadata": {},
   "outputs": [
    {
     "name": "stdout",
     "output_type": "stream",
     "text": [
      "Acurácia nos dados de teste: 95.34883720930233\n"
     ]
    }
   ],
   "source": [
    "print(\"Acurácia nos dados de teste: \" + str(acuracia))"
   ]
  },
  {
   "cell_type": "code",
   "execution_count": 65,
   "metadata": {},
   "outputs": [
    {
     "name": "stdout",
     "output_type": "stream",
     "text": [
      "              precision    recall  f1-score   support\n",
      "\n",
      "     Maligno       1.00      0.86      0.93        29\n",
      "     Benigno       0.93      1.00      0.97        57\n",
      "\n",
      "    accuracy                           0.95        86\n",
      "   macro avg       0.97      0.93      0.95        86\n",
      "weighted avg       0.96      0.95      0.95        86\n",
      "\n"
     ]
    }
   ],
   "source": [
    "print(classification_report(y_teste, y_pred_teste, target_names = ['Maligno', 'Benigno']))"
   ]
  },
  {
   "cell_type": "markdown",
   "metadata": {},
   "source": [
    "### Análise\n",
    "\n",
    "Nosso modelo foi capaz de obter uma acurácia melhor com os dados desconhecidos (Teste) do que comparado aos dados utilizados durante o treinamento.\n",
    "\n",
    "A quantidade de dado é muito pouco. Esse estudo foi para fixação e aprendizado de como criar uma rede neural sem a utilização de Frameworks.\n",
    "\n",
    "Podiamos ter aplicado um Early Stop durante o treinamento na função de custo, para que quando o modelo deixa de aprender por X execuções interrompa o treinamento. Isso poupa processamento, tempo e evita um possível overfitting."
   ]
  }
 ],
 "metadata": {
  "kernelspec": {
   "display_name": "Python 3",
   "language": "python",
   "name": "python3"
  },
  "language_info": {
   "codemirror_mode": {
    "name": "ipython",
    "version": 3
   },
   "file_extension": ".py",
   "mimetype": "text/x-python",
   "name": "python",
   "nbconvert_exporter": "python",
   "pygments_lexer": "ipython3",
   "version": "3.7.3"
  }
 },
 "nbformat": 4,
 "nbformat_minor": 4
}
